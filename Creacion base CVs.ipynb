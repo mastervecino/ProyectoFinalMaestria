{
 "cells": [
  {
   "cell_type": "markdown",
   "id": "67fe6a771648b5cc",
   "metadata": {},
   "source": [
    "# Creación de base de datos para identificación de HVs\n",
    "\n",
    "El presente archivo se creará la base de datos extrayendo información de HVs usando procesamiento de lenguaje natural. Esto con el objetivo de más adelante tener la posibilidad de generar con base en 300 HVs tanto rechazadas como avanzadas, un modelo que nos permita identificar las características predominantes de una HV que hace que avance o no durante el proceso.\n",
    "\n"
   ]
  },
  {
   "cell_type": "markdown",
   "id": "1c1966813e3e9fa9",
   "metadata": {},
   "source": [
    "#### Importar librerias"
   ]
  },
  {
   "cell_type": "code",
   "id": "fb3e23ba42466f7a",
   "metadata": {
    "ExecuteTime": {
     "end_time": "2025-03-15T22:19:23.588472Z",
     "start_time": "2025-03-15T22:19:23.574112Z"
    }
   },
   "source": [
    "import os\n",
    "import fitz  # PyMuPDF for PDFs\n",
    "import pytesseract\n",
    "from PIL import Image\n",
    "import pandas as pd\n",
    "import re\n",
    "import spacy"
   ],
   "outputs": [],
   "execution_count": 5
  },
  {
   "cell_type": "markdown",
   "id": "b42576fa4a496b8d",
   "metadata": {},
   "source": [
    "### Importar SpaCy para NLP\n",
    "Spacy es una librería de python que permite por medio de modelos de lenguaje pre-importados realizar análisis de texto, identificando palabras, nombres, lugares, objetos, verbos, adjetivos y la relación entre los mismos.\n",
    "\n",
    "En este caso, importamos el modelo pre-entrenado en inglés, lo que requiere que todas las CVs a procesar estén en este idioma.\n"
   ]
  },
  {
   "cell_type": "code",
   "id": "a07efd1e8999fca0",
   "metadata": {
    "ExecuteTime": {
     "end_time": "2025-03-15T22:19:24.058132Z",
     "start_time": "2025-03-15T22:19:23.615130Z"
    }
   },
   "source": [
    "nlp = spacy.load(\"en_core_web_sm\")"
   ],
   "outputs": [],
   "execution_count": 6
  },
  {
   "cell_type": "markdown",
   "id": "d8bff966235be316",
   "metadata": {},
   "source": [
    "#### Cargar las carpetas con las HVs"
   ]
  },
  {
   "cell_type": "code",
   "id": "33d08bd86bbbdf7d",
   "metadata": {
    "ExecuteTime": {
     "end_time": "2025-03-15T22:19:24.067274Z",
     "start_time": "2025-03-15T22:19:24.065648Z"
    }
   },
   "source": [
    "hv_dir_exitosas = \"hojas_de_vida/java/Paso\"\n",
    "hv_dir_noexitosas = \"hojas_de_vida/java/No Paso\""
   ],
   "outputs": [],
   "execution_count": 7
  },
  {
   "cell_type": "markdown",
   "id": "93a9c52ba4a5d0b5",
   "metadata": {},
   "source": [
    "### Deifinir palabras clave\n",
    "En este caso, se definirar palabras clave que podrán tener las HVs teniendo en cuenta que para este modelo en particular se está utlizando solo HVs para un requerimiento de **desarrolladores Java**.\n",
    "\n",
    "Debemos usar algunas repetidas para atenuar que hayan usado mayúsculas, espacios o símbolos\n"
   ]
  },
  {
   "cell_type": "code",
   "id": "eaeb43eba8c9c77b",
   "metadata": {
    "ExecuteTime": {
     "end_time": "2025-03-15T22:19:24.077143Z",
     "start_time": "2025-03-15T22:19:24.074297Z"
    }
   },
   "source": [
    "palabras_clave = [\"Java\", \"java\", \"Spring\", \"spring\", \"spring boot\", \"Spring Boot\", \"AWS\", \"aws\", \"Azure\", \"azure\", \"GCP\", \"Google Cloud Platform\", \"google cloud platform\", \"microservices\", \"Maven\", \"maven\", \"gradle\", \"Gradle\", \"Java Server Pages\", \"JSP\", \"JEE\", \"Java Enterprise Edition\", \"Java8\", \"Java11\", \"Java17\", \"Java21\", \"JVM\", \"Java virtual machine\", \"Java Virtual Machine\"]"
   ],
   "outputs": [],
   "execution_count": 8
  },
  {
   "cell_type": "markdown",
   "id": "4aa4a34a408593ec",
   "metadata": {},
   "source": [
    "### Definir las secciones y los patrones en las que estas van a aparecer\n",
    "Además de definir la cantidad de palabras clave, es importante contar con las secciones con las que cada documento puede contar y entender si cuenta o no con este."
   ]
  },
  {
   "cell_type": "code",
   "id": "fd0d495a9cac2d73",
   "metadata": {
    "ExecuteTime": {
     "end_time": "2025-03-15T22:19:24.089103Z",
     "start_time": "2025-03-15T22:19:24.086474Z"
    }
   },
   "source": [
    "secciones = {\n",
    "    \"education\": r\"education|academic background|studies\",\n",
    "    \"work_experience\": r\"work experience|employment history|professional experience|experience|professional background|background\",\n",
    "    \"skills\": r\"skills|technical skills|competencies|programming languages|frameworks\",\n",
    "    \"certifications\": r\"certifications|licenses|accreditations\",\n",
    "    \"achievements\": r\"achievements|accomplishments|recognitions\",\n",
    "    \"professional_profile\": r\"profile|summary|about me|professional summary|objective\"\n",
    "}"
   ],
   "outputs": [],
   "execution_count": 9
  },
  {
   "cell_type": "markdown",
   "id": "501b64d86debc1fc",
   "metadata": {},
   "source": [
    "### Extraer el texto de los PDFs\n",
    "\n",
    "A continuación se usará la librería FITZ, la cual ayuda a extraer el texto de un PDF, ver si tiene imágenes, contar sus páginas y detectar colores en los mismos.\n",
    "\n",
    "La declaramos como función para llamarla más adelante en el procesamiento de todas las características que buscamos extraer."
   ]
  },
  {
   "cell_type": "code",
   "id": "25a802e5d6a652d8",
   "metadata": {
    "ExecuteTime": {
     "end_time": "2025-03-15T22:19:24.094245Z",
     "start_time": "2025-03-15T22:19:24.092232Z"
    }
   },
   "source": [
    "def extraer_texto_pdf(pdf_path):\n",
    "    text = \"\"\n",
    "    try:\n",
    "        doc = fitz.open(pdf_path)\n",
    "        for page in doc:\n",
    "            text += page.get_text(\"text\") + \"\\n\"\n",
    "    except Exception as e:\n",
    "        print(f\"Leyendo PDF {pdf_path}: {e}\")\n",
    "    return text.strip()"
   ],
   "outputs": [],
   "execution_count": 10
  },
  {
   "cell_type": "markdown",
   "id": "ee083f0b03f98d0a",
   "metadata": {},
   "source": [
    "### Contar palabras en general"
   ]
  },
  {
   "cell_type": "code",
   "id": "f21a5383d486ed58",
   "metadata": {
    "ExecuteTime": {
     "end_time": "2025-03-15T22:19:24.104017Z",
     "start_time": "2025-03-15T22:19:24.101851Z"
    }
   },
   "source": [
    "def contar_palabras(text):\n",
    "    return len(text.split()) if text else 0"
   ],
   "outputs": [],
   "execution_count": 11
  },
  {
   "cell_type": "markdown",
   "id": "f11366355a255205",
   "metadata": {},
   "source": [
    "#### Contar palabras clave"
   ]
  },
  {
   "cell_type": "code",
   "id": "71718497e8a8e459",
   "metadata": {
    "ExecuteTime": {
     "end_time": "2025-03-15T22:19:24.113113Z",
     "start_time": "2025-03-15T22:19:24.110475Z"
    }
   },
   "source": [
    "def contar_palabras_clave(text, keyword_list):\n",
    "    text_lower = text.lower()\n",
    "    return sum(1 for keyword in keyword_list if keyword.lower() in text_lower)"
   ],
   "outputs": [],
   "execution_count": 12
  },
  {
   "cell_type": "markdown",
   "id": "ea71f79c135a8322",
   "metadata": {},
   "source": [
    "#### Extraer las secciones"
   ]
  },
  {
   "cell_type": "markdown",
   "id": "5807a2538554b7a9",
   "metadata": {},
   "source": [
    "Para extraer las secciones, usamos expresiones regulares. Con la biblioteca Re, busca el patron definido en la variable secciones más arriba, que ayuda a identificar si el texto obtenido del PDF tiene o no esta sección."
   ]
  },
  {
   "cell_type": "code",
   "id": "ea6fcdc83dc741aa",
   "metadata": {
    "ExecuteTime": {
     "end_time": "2025-03-15T22:19:24.123399Z",
     "start_time": "2025-03-15T22:19:24.119749Z"
    }
   },
   "source": [
    "import re\n",
    "\n",
    "def extraer_secciones(text):\n",
    "    sections = {key: {\"exists\": False, \"word_count\": 0} for key in secciones.keys()}\n",
    "\n",
    "    for section, pattern in secciones.items():\n",
    "        match = re.search(pattern, text, re.IGNORECASE)\n",
    "        if match:\n",
    "            sections[section][\"exists\"] = True  # Section exists\n",
    "            section_start = match.start()\n",
    "            next_match = min(\n",
    "                (m.start() for s, p in secciones.items() if (m := re.search(p, text[section_start + 1:], re.IGNORECASE))),\n",
    "                default=len(text)\n",
    "            )\n",
    "            sections[section][\"word_count\"] = contar_palabras(text[section_start:section_start + next_match])\n",
    "\n",
    "    return sections"
   ],
   "outputs": [],
   "execution_count": 13
  },
  {
   "cell_type": "markdown",
   "id": "835269bac70c5d34",
   "metadata": {},
   "source": [
    "### Verificar factores como foto y colores\n",
    "De vuelta se usa la librería fitz para poder leer el PDF"
   ]
  },
  {
   "cell_type": "markdown",
   "id": "5b5d9fc545491141",
   "metadata": {},
   "source": [
    "#### Verificar si tiene o no foto"
   ]
  },
  {
   "cell_type": "code",
   "id": "3cfd0e8691ad5b25",
   "metadata": {
    "ExecuteTime": {
     "end_time": "2025-03-15T22:19:24.133716Z",
     "start_time": "2025-03-15T22:19:24.130599Z"
    }
   },
   "source": [
    "def tiene_foto_pdf(pdf_path):\n",
    "    try:\n",
    "        doc = fitz.open(pdf_path)\n",
    "        for page in doc:\n",
    "            if len(page.get_images(full=True)) > 0:\n",
    "                return True\n",
    "    except Exception as e:\n",
    "        print(f\"Error revisando foto en PDF {pdf_path}: {e}\")\n",
    "    return False"
   ],
   "outputs": [],
   "execution_count": 14
  },
  {
   "cell_type": "markdown",
   "id": "53be24b9e57cb96",
   "metadata": {},
   "source": [
    "#### Verificar si tiene colores adicionales el PDF"
   ]
  },
  {
   "cell_type": "code",
   "id": "1a4d64ac7fd49f7d",
   "metadata": {
    "ExecuteTime": {
     "end_time": "2025-03-15T22:19:24.141329Z",
     "start_time": "2025-03-15T22:19:24.139128Z"
    }
   },
   "source": [
    "def tiene_color_pdf(pdf_path):\n",
    "    doc = fitz.open(pdf_path)\n",
    "\n",
    "    for page in doc:\n",
    "        for draw in page.get_drawings():\n",
    "            if \"color\" in draw:\n",
    "                return True\n",
    "\n",
    "    return False"
   ],
   "outputs": [],
   "execution_count": 15
  },
  {
   "cell_type": "markdown",
   "id": "6791c0a977c9c6e5",
   "metadata": {},
   "source": [
    "#### Contar páginas"
   ]
  },
  {
   "cell_type": "code",
   "id": "6ff84af80f7c87a9",
   "metadata": {
    "ExecuteTime": {
     "end_time": "2025-03-15T22:19:24.154606Z",
     "start_time": "2025-03-15T22:19:24.152686Z"
    }
   },
   "source": [
    "def contar_paginas(pdf_path):\n",
    "    try:\n",
    "        doc = fitz.open(pdf_path)\n",
    "        return len(doc)\n",
    "    except Exception as e:\n",
    "        print(f\"Error counting pages in PDF {pdf_path}: {e}\")\n",
    "        return 1"
   ],
   "outputs": [],
   "execution_count": 16
  },
  {
   "cell_type": "markdown",
   "id": "f239daf5e814c354",
   "metadata": {},
   "source": [
    "### Procesamiento del CV\n",
    "A continuación la función de procesamiento, nos ayudará a procesar un solo CV de acuerdo a los parámetros establecidos anteriormente, ejecutando cada una de las funciones ya establecidas"
   ]
  },
  {
   "cell_type": "code",
   "id": "64da431faefcd6d7",
   "metadata": {
    "ExecuteTime": {
     "end_time": "2025-03-15T22:19:24.166352Z",
     "start_time": "2025-03-15T22:19:24.162320Z"
    }
   },
   "source": [
    "def process_cv(cv_path):\n",
    "    text = \"\"\n",
    "    has_photo = False\n",
    "    has_colors = False\n",
    "    num_pages = 1\n",
    "\n",
    "    text = extraer_texto_pdf(cv_path)\n",
    "    has_photo = tiene_foto_pdf(cv_path)\n",
    "    has_colors = tiene_color_pdf(cv_path)\n",
    "    num_pages = contar_paginas(cv_path)\n",
    "\n",
    "    if not text:\n",
    "        print(f\"No se pudo extraer texto de {cv_path}\")\n",
    "\n",
    "    # Extract features\n",
    "    total_word_count = contar_palabras(text)\n",
    "    keyword_count = contar_palabras_clave(text, palabras_clave)\n",
    "    sections = extraer_secciones(text)\n",
    "\n",
    "    return {\n",
    "        \"CV_Name\": os.path.basename(cv_path),\n",
    "        \"Total_Word_Count\": total_word_count,\n",
    "        \"Has_Photo\": int(has_photo),\n",
    "        \"Has_Colors\": int(has_colors),\n",
    "        \"Pages\": num_pages,\n",
    "        \"Keyword_Count\": keyword_count,\n",
    "        \"Education_Exists\": int(sections[\"education\"][\"exists\"]),\n",
    "        \"Education_Word_Count\": sections[\"education\"][\"word_count\"],\n",
    "        \"Work_Experience_Exists\": int(sections[\"work_experience\"][\"exists\"]),\n",
    "        \"Work_Experience_Word_Count\": sections[\"work_experience\"][\"word_count\"],\n",
    "        \"Skills_Exists\": int(sections[\"skills\"][\"exists\"]),\n",
    "        \"Skills_Word_Count\": sections[\"skills\"][\"word_count\"],\n",
    "        \"Certifications_Exists\": int(sections[\"certifications\"][\"exists\"]),\n",
    "        \"Certifications_Word_Count\": sections[\"certifications\"][\"word_count\"],\n",
    "        \"Achievements_Exists\": int(sections[\"achievements\"][\"exists\"]),\n",
    "        \"Achievements_Word_Count\": sections[\"achievements\"][\"word_count\"],\n",
    "        \"Professional_Profile_Exists\": int(sections[\"professional_profile\"][\"exists\"]),\n",
    "        \"Professional_Profile_Word_Count\": sections[\"professional_profile\"][\"word_count\"],\n",
    "    }"
   ],
   "outputs": [],
   "execution_count": 17
  },
  {
   "cell_type": "markdown",
   "id": "dfff08f7a7c59f83",
   "metadata": {},
   "source": [
    "### Procesamiento de CVs en la carpeta\n",
    "La siguiente función nos ayuda a de acuerdo con lo establecido anteriormente, procesar todas las CVs en las carpetas seleccionadas y devolverlas en una lista"
   ]
  },
  {
   "cell_type": "code",
   "id": "6867ff751fe98fd8",
   "metadata": {
    "ExecuteTime": {
     "end_time": "2025-03-15T22:19:24.174170Z",
     "start_time": "2025-03-15T22:19:24.171415Z"
    }
   },
   "source": [
    "def process_folder(folder_path, label):\n",
    "    cv_data = []\n",
    "    for filename in os.listdir(folder_path):\n",
    "        if filename.endswith(\".pdf\"):\n",
    "            cv_path = os.path.join(folder_path, filename)\n",
    "            print(f\"Processing: {cv_path}\")\n",
    "            cv_info = process_cv(cv_path)\n",
    "            cv_info[\"Passed\"] = label\n",
    "            cv_data.append(cv_info)\n",
    "    return cv_data"
   ],
   "outputs": [],
   "execution_count": 18
  },
  {
   "cell_type": "markdown",
   "id": "cbc3343a7fb016b6",
   "metadata": {},
   "source": [
    "## Creación de la base de datos"
   ]
  },
  {
   "cell_type": "markdown",
   "id": "6b0b6bcf93f240cd",
   "metadata": {},
   "source": [
    "Se crean las variables donde se almacenan las CVs exitosas procesadas, agregando la información de 1 si es exitosa y 0 si no es exitosa."
   ]
  },
  {
   "cell_type": "code",
   "id": "c129776ed7a42879",
   "metadata": {
    "ExecuteTime": {
     "end_time": "2025-03-15T22:19:31.043018Z",
     "start_time": "2025-03-15T22:19:24.183458Z"
    }
   },
   "source": [
    "successful_data = process_folder(hv_dir_exitosas, 1)  # Label = 1 (Passed)\n",
    "unsuccessful_data = process_folder(hv_dir_noexitosas, 0)  # Label = 0 (Not Passed)"
   ],
   "outputs": [
    {
     "name": "stdout",
     "output_type": "stream",
     "text": [
      "Processing: hojas_de_vida/java/Paso/Resume Hector Bedoya L.pdf\n",
      "Processing: hojas_de_vida/java/Paso/985269fa-a528-46aa-bc9c-403ee23fbcd3_CV Felipe Feres .pdf\n",
      "Processing: hojas_de_vida/java/Paso/CV-JDC-EN (2).pdf\n",
      "Processing: hojas_de_vida/java/Paso/Miguel Santos Java Developer (1).pdf\n",
      "Processing: hojas_de_vida/java/Paso/denis_cv_en_new.pdf\n",
      "Processing: hojas_de_vida/java/Paso/CV Marcio Galvao.pdf\n",
      "Processing: hojas_de_vida/java/Paso/CV_Fabio_Andres_Mora_Ossa.pdf\n",
      "Processing: hojas_de_vida/java/Paso/EN-FRANCISCO BELTRAN.pdf\n",
      "Processing: hojas_de_vida/java/Paso/EN_ResumeJorgeAbreu.pdf\n",
      "Processing: hojas_de_vida/java/Paso/CV JOHN MATEUS .pdf\n",
      "Processing: hojas_de_vida/java/Paso/11686212-CV-Jorge Vidal.pdf\n",
      "Processing: hojas_de_vida/java/Paso/}.pdf\n",
      "Processing: hojas_de_vida/java/Paso/14503315-CV - Henry Luis Gomez Ortiz [En] (1) (1).pdf\n",
      "Processing: hojas_de_vida/java/Paso/DEIVID DIMAS_en.pdf\n",
      "Processing: hojas_de_vida/java/Paso/Samir Cabrera CV 2022 (1).pdf\n",
      "Processing: hojas_de_vida/java/Paso/CV- Ruben Dario Triana.pdf\n",
      "Processing: hojas_de_vida/java/Paso/CV_Luis Hernandez_Software_Engineer.pdf\n",
      "Processing: hojas_de_vida/java/Paso/Danny Arevalo CV.pdf\n",
      "Processing: hojas_de_vida/java/Paso/Ricardo 2024 RESUME.pdf\n",
      "Processing: hojas_de_vida/java/Paso/CV Johnattan Zambrano-1.pdf\n",
      "Processing: hojas_de_vida/java/Paso/Eng - Maximiliano Carfora.pdf\n",
      "Processing: hojas_de_vida/java/Paso/Resume Mario Murillo-1.pdf\n",
      "Processing: hojas_de_vida/java/Paso/CV - Jorge Hern†n Su†rez Osorio (2).pdf\n",
      "Processing: hojas_de_vida/java/Paso/HojaDeVida_JhonAlexanderLaraBarrera (2).pdf\n",
      "Processing: hojas_de_vida/java/Paso/CV_NicolasPenaArias.pdf\n",
      "Processing: hojas_de_vida/java/Paso/cv_se_en_andrescanon.pdf\n",
      "Processing: hojas_de_vida/java/Paso/Byron Andrago CV.pdf\n",
      "Processing: hojas_de_vida/java/Paso/NADIA BASTIDAS (EN).pdf\n",
      "Processing: hojas_de_vida/java/Paso/Hector Bustamante - English CV (1).pdf\n",
      "Processing: hojas_de_vida/java/Paso/CV BrayanAndresCovariaEnglish.pdf\n",
      "Processing: hojas_de_vida/java/Paso/Daniel_Ruiz-CV (1).pdf\n",
      "Processing: hojas_de_vida/java/Paso/14483303-Andres_Gomez_resume.docx (2) (1).pdf\n",
      "Processing: hojas_de_vida/java/Paso/BBD1018F-127C-4C11-98CA-12E050D26B3B.pdf\n",
      "Processing: hojas_de_vida/java/Paso/CV ANDRES MARIN .pdf\n",
      "Processing: hojas_de_vida/java/Paso/14955159-Curriculum vitae english (1).pdf\n",
      "Processing: hojas_de_vida/java/Paso/JOSE SEBASTIAN CARDONA QUICENO_eng.pdf\n",
      "Processing: hojas_de_vida/java/Paso/Jonathan Hinestroza Resumen.pdf\n",
      "Processing: hojas_de_vida/java/Paso/curriculum_vitae.pdf\n",
      "Processing: hojas_de_vida/java/Paso/Leon Matias Resume in Detail (1).pdf\n",
      "Processing: hojas_de_vida/java/Paso/8A9EBB5F-08ED-4D90-92C2-72A9024C2A58.pdf\n",
      "Processing: hojas_de_vida/java/Paso/Rafael Lopez English CV.pdf\n",
      "Processing: hojas_de_vida/java/Paso/CV Maria Fernanda.pdf\n",
      "Processing: hojas_de_vida/java/Paso/CV - Lourdes Valli.pdf\n",
      "Processing: hojas_de_vida/java/Paso/CV-Mateo.pdf\n",
      "Processing: hojas_de_vida/java/Paso/CV - Miguel Angel Mazacote.pdf\n",
      "Processing: hojas_de_vida/java/Paso/CV-Carlos Campo-2022-Ingles.pdf\n",
      "Processing: hojas_de_vida/java/Paso/CV Giancarlo Solano.pdf\n",
      "Processing: hojas_de_vida/java/Paso/HV MICHAEL QUI•ONEZ EN (1).pdf\n",
      "Processing: hojas_de_vida/java/Paso/CV Carlos Medina.pdf\n",
      "Processing: hojas_de_vida/java/Paso/CV+Jose+Luis+Urrea+2022_V-English+-+DevelopX.pdf\n",
      "Processing: hojas_de_vida/java/Paso/ECD9AA3D-A942-4BE3-8E4E-3BE716F5565D1.pdf\n",
      "Processing: hojas_de_vida/java/Paso/cv_Silvano Andre.pdf\n",
      "Processing: hojas_de_vida/java/Paso/Resume-Franco-Cuadros.pdf\n",
      "Processing: hojas_de_vida/java/Paso/CORRALES_FIERRO_CV.pdf\n",
      "Processing: hojas_de_vida/java/Paso/Agustin Castro CV.pdf\n",
      "Processing: hojas_de_vida/java/Paso/CV Sergio ruben murua english.pdf\n",
      "Processing: hojas_de_vida/java/Paso/CV Felipe Miranda .pdf\n",
      "Processing: hojas_de_vida/java/Paso/CV DANIEL LEITAO VILAR.pdf\n",
      "Processing: hojas_de_vida/java/Paso/Ricardo 2024 RESUME (1).pdf\n",
      "Processing: hojas_de_vida/java/Paso/Daniel_Tapia_CV.pdf\n",
      "Processing: hojas_de_vida/java/Paso/Johannes Correa - CV (JTL).pdf\n",
      "Processing: hojas_de_vida/java/Paso/PROFESSIONAL RESUME - DANIEL TORRES RUIZ (fixed).pdf\n",
      "Processing: hojas_de_vida/java/Paso/diegotorres.pdf\n",
      "Processing: hojas_de_vida/java/Paso/Juan Sebast Forero CV.pdf\n",
      "Processing: hojas_de_vida/java/Paso/JAVIER_ALMARIO-RESUME-2024 (1).pdf\n",
      "Processing: hojas_de_vida/java/Paso/CV_Sebastian_Ponce.pdf\n",
      "Processing: hojas_de_vida/java/Paso/HVSaul (1).pdf\n",
      "Processing: hojas_de_vida/java/Paso/RENATO VA_SQUEZ.pdf\n",
      "Processing: hojas_de_vida/java/Paso/Resume Ezequiel Fornes  01-23.pdf\n",
      "Processing: hojas_de_vida/java/Paso/CV_EN_Pablo_24D.pdf\n",
      "Processing: hojas_de_vida/java/Paso/CV Carlos Anguila.pdf\n",
      "Processing: hojas_de_vida/java/Paso/HojaVidaDiegoGarcia.pdf\n",
      "Processing: hojas_de_vida/java/Paso/CV_John+Alejandro+Duran+Garzon.pdf\n",
      "Processing: hojas_de_vida/java/Paso/CV Fabian Bareno.pdf\n",
      "Processing: hojas_de_vida/java/Paso/Yeison Jurado .pdf\n",
      "Processing: hojas_de_vida/java/Paso/CV - Raul Santiago Agamez.pdf\n",
      "Processing: hojas_de_vida/java/Paso/CV Damian Teplitz (1).pdf\n",
      "Processing: hojas_de_vida/java/Paso/Daniel Ria§o CV (1).pdf\n",
      "Processing: hojas_de_vida/java/Paso/CV Ignacio.pdf\n",
      "Processing: hojas_de_vida/java/Paso/CV_Jesus_David_Rodriguez.pdf\n",
      "Processing: hojas_de_vida/java/Paso/CV Luis Eduardo Espinosa.pdf\n",
      "Processing: hojas_de_vida/java/Paso/ResumeRNegrette.pdf\n",
      "Processing: hojas_de_vida/java/Paso/Resume Eng. Neiro Diaz - CD.pdf\n",
      "Processing: hojas_de_vida/java/Paso/MarcoADuranP-CV.pdf\n",
      "Processing: hojas_de_vida/java/Paso/Alex Diaz CV - 2022.pdf\n",
      "Processing: hojas_de_vida/java/Paso/CV_2022 - EN.pdf\n",
      "Processing: hojas_de_vida/java/Paso/CV Frank Edward Daza Gonzalez.pdf\n",
      "Processing: hojas_de_vida/java/Paso/CV Ivan Garcia.docx (1) (1).pdf\n",
      "Processing: hojas_de_vida/java/Paso/CV - Andres VIllamil.pdf\n",
      "Processing: hojas_de_vida/java/Paso/Spanish_CV_Esneider_Restrepo.pdf\n",
      "Processing: hojas_de_vida/java/Paso/EN_CV-leonardo-salazar-narvaez_2021.pdf\n",
      "Processing: hojas_de_vida/java/Paso/Resume_Salvador_Lavariega_Sr Back End Developer_2024.pdf\n",
      "Processing: hojas_de_vida/java/Paso/Geovanny Cartin.pdf\n",
      "Processing: hojas_de_vida/java/Paso/CV_2024_EN.pdf\n",
      "Processing: hojas_de_vida/java/Paso/CV Ramiro (1).pdf\n",
      "Processing: hojas_de_vida/java/Paso/Daniel Giraldo (1).pdf\n",
      "Processing: hojas_de_vida/java/Paso/CV_AlejandroCastro_E.pdf\n",
      "Processing: hojas_de_vida/java/Paso/David malagon - CV.pdf\n",
      "Processing: hojas_de_vida/java/Paso/HojaVida2022_CurriculumVitë.pdf\n",
      "Processing: hojas_de_vida/java/Paso/CVJCOC.pdf\n",
      "Processing: hojas_de_vida/java/Paso/ECD9AA3D-A942-4BE3-8E4E-3BE716F5565D.pdf\n",
      "Processing: hojas_de_vida/java/Paso/CV - Juan Pablo Guirado.pdf\n",
      "Processing: hojas_de_vida/java/Paso/rguerrero resume 2024.pdf\n",
      "Processing: hojas_de_vida/java/Paso/CV - Héctor Polanco (english).pdf\n",
      "Processing: hojas_de_vida/java/Paso/Christian_Blanco_CV_2022.pdf\n",
      "Processing: hojas_de_vida/java/Paso/CV - Jorge Hern†n Su†rez Osorio (22).pdf\n",
      "Processing: hojas_de_vida/java/Paso/CV Jesus-Aguilar.pdf\n",
      "Processing: hojas_de_vida/java/Paso/alexis_pequeno_cv_en.pdf\n",
      "Processing: hojas_de_vida/java/Paso/CV - Santiago Ardila.pdf\n",
      "Processing: hojas_de_vida/java/Paso/ABD57CA0-6506-4FF2-84B3-42F845509854.pdf\n",
      "Processing: hojas_de_vida/java/Paso/Java Software Developer.pdf\n",
      "Processing: hojas_de_vida/java/Paso/Emilio CV .pdf\n",
      "Processing: hojas_de_vida/java/Paso/Carlos Pinto Jimenez_CV.docx.pdf\n",
      "Processing: hojas_de_vida/java/Paso/CV Johan Andres Bustos Amaya.pdf\n",
      "Processing: hojas_de_vida/java/No Paso/Sucre - Specialist Fullstack Developer-3.pdf\n",
      "Processing: hojas_de_vida/java/No Paso/CV Marco Aguilera - Software developer_CA.pdf\n",
      "Processing: hojas_de_vida/java/No Paso/Curriculum Vitae (1).pdf\n",
      "Processing: hojas_de_vida/java/No Paso/15120649-CV - Oscar Rodríguez Beltrán.pdf\n",
      "Processing: hojas_de_vida/java/No Paso/CV_OscarAmaya.pdf\n",
      "Processing: hojas_de_vida/java/No Paso/CV - Daniel Rios.pdf\n",
      "Processing: hojas_de_vida/java/No Paso/Joaquin Herrera Gayol - CV (1).pdf\n",
      "Processing: hojas_de_vida/java/No Paso/CV - JOSE BRICEN_O-2 (1).pdf\n",
      "Processing: hojas_de_vida/java/No Paso/CV - Richar Melo.pdf\n",
      "Processing: hojas_de_vida/java/No Paso/CV-Chiocconi-YellowPepper (1).pdf\n",
      "Processing: hojas_de_vida/java/No Paso/HV_MIGUEL_2024_1-2.pdf\n",
      "Processing: hojas_de_vida/java/No Paso/CV_-_Adrian_Felipe_Cardona_Grajales_2023.pdf\n",
      "Processing: hojas_de_vida/java/No Paso/resume (1)-3(1).pdf\n",
      "Processing: hojas_de_vida/java/No Paso/11686212-CV-Jorge Vidal.pdf\n",
      "Processing: hojas_de_vida/java/No Paso/CV Frederico.pdf\n",
      "Processing: hojas_de_vida/java/No Paso/CV_Jhovanny Andres Suárez Arenas.pdf\n",
      "Processing: hojas_de_vida/java/No Paso/CVJuanLeon-EN (1).pdf\n",
      "Processing: hojas_de_vida/java/No Paso/Sergio Resume (2).pdf\n",
      "Processing: hojas_de_vida/java/No Paso/14503315-CV - Henry Luis Gomez Ortiz [En] (1) (1).pdf\n",
      "Processing: hojas_de_vida/java/No Paso/Luis-Guillermo-Rossano-Esquivel-CV2024.pdf\n",
      "Processing: hojas_de_vida/java/No Paso/EE1F2E58-1C0E-44DB-8A7F-8ECA1D08835A.pdf\n",
      "Processing: hojas_de_vida/java/No Paso/Alexandre Resume.pdf\n",
      "Processing: hojas_de_vida/java/No Paso/CV - Jeudrin Al° Marchena S†nchez (1).pdf\n",
      "Processing: hojas_de_vida/java/No Paso/LBD_CURRICULUM_1.docx (1).pdf\n",
      "Processing: hojas_de_vida/java/No Paso/Resume_Sergio_Perez_2024 (1).pdf\n",
      "Processing: hojas_de_vida/java/No Paso/CV- Ruben Dario Triana.pdf\n",
      "Processing: hojas_de_vida/java/No Paso/VictorPietro_Reis_Resume (1).pdf\n",
      "Processing: hojas_de_vida/java/No Paso/10967986-Boris Palacios_CV Mid level..pdf\n",
      "Processing: hojas_de_vida/java/No Paso/CV (1) (1).pdf\n",
      "Processing: hojas_de_vida/java/No Paso/Emanuel Frua-CV-Developer.pdf\n",
      "Processing: hojas_de_vida/java/No Paso/Joaquin Garrido CV.pdf\n",
      "Processing: hojas_de_vida/java/No Paso/Curriculum Alberto Nin§o.pdf\n",
      "Processing: hojas_de_vida/java/No Paso/CV - Bernard Contão - English.pdf\n",
      "Processing: hojas_de_vida/java/No Paso/JH_CV_english_version-1 (2).pdf\n",
      "Processing: hojas_de_vida/java/No Paso/CV-Ricardo-Delgado-En.pdf\n",
      "Processing: hojas_de_vida/java/No Paso/CVMartinAlbarracin (5).pdf\n",
      "Processing: hojas_de_vida/java/No Paso/Naren Avila - Lead Software Engineer.pdf\n",
      "Processing: hojas_de_vida/java/No Paso/Jonathan Bolanos - CV (JTL).pdf\n",
      "Processing: hojas_de_vida/java/No Paso/CV Francisco Updated.pdf\n",
      "Processing: hojas_de_vida/java/No Paso/CV Nesly Castro - 2025-01.pdf\n",
      "Processing: hojas_de_vida/java/No Paso/CV Javier Rocha-2 (1).pdf\n",
      "Processing: hojas_de_vida/java/No Paso/CV- Felipe Costa Reis.pdf\n",
      "Processing: hojas_de_vida/java/No Paso/2B7FFB7D-6338-4291-9A76-61E9AC9C29FB (1).pdf\n",
      "Processing: hojas_de_vida/java/No Paso/Salomon_Mejia_CV (1).pdf\n",
      "Processing: hojas_de_vida/java/No Paso/Jhonattan_Fernandez_Vargas.pdf\n",
      "Processing: hojas_de_vida/java/No Paso/CV NELSON_OSORIO_CV.pdf\n",
      "Processing: hojas_de_vida/java/No Paso/Daniel_Ruiz-CV (1).pdf\n",
      "Processing: hojas_de_vida/java/No Paso/cv (1).pdf\n",
      "Processing: hojas_de_vida/java/No Paso/HOJA DE VIDA WILSON.pdf\n",
      "No se pudo extraer texto de hojas_de_vida/java/No Paso/HOJA DE VIDA WILSON.pdf\n",
      "Processing: hojas_de_vida/java/No Paso/14305073-CV_DavidRueda (2).pdf\n",
      "Processing: hojas_de_vida/java/No Paso/CV_EN_DANIELA_RAMIREZ_GOMEZ (1).pdf\n",
      "Processing: hojas_de_vida/java/No Paso/CV DiegoCastro Eng.pdf\n",
      "Processing: hojas_de_vida/java/No Paso/CV_ELVIS_ESPINOZA(19November2022).pdf\n",
      "Processing: hojas_de_vida/java/No Paso/CV DIEGO RAMIREZ.pdf\n",
      "Processing: hojas_de_vida/java/No Paso/CV Diego Ospina.pdf\n",
      "Processing: hojas_de_vida/java/No Paso/Hoja de Vida MACH.pdf\n",
      "Processing: hojas_de_vida/java/No Paso/Jonathan Hinestroza Resumen.pdf\n",
      "Processing: hojas_de_vida/java/No Paso/Calciano Federico resume (1).pdf\n",
      "Processing: hojas_de_vida/java/No Paso/CV Juan_Camilo_Martinez (1).pdf\n",
      "Processing: hojas_de_vida/java/No Paso/CV Hector Silvar.pdf\n",
      "Processing: hojas_de_vida/java/No Paso/Curriculum Vitae - Cristian Geovany Arias Castro 2024 (1).pdf\n",
      "Processing: hojas_de_vida/java/No Paso/HV_DAVID_RUIZ.pdf\n",
      "Processing: hojas_de_vida/java/No Paso/Curriculum vitae - Facundo Rodriguez.pdf\n",
      "Processing: hojas_de_vida/java/No Paso/CV Guillermo.pdf\n",
      "Processing: hojas_de_vida/java/No Paso/CV- Fabian AndrÇs Alvarez Hoyos.pdf\n",
      "Processing: hojas_de_vida/java/No Paso/Sintesis_Curricular_Luis_Malpica_Murillo.pdf\n",
      "Processing: hojas_de_vida/java/No Paso/Ricardo_Luna_Resume.pdf\n",
      "Processing: hojas_de_vida/java/No Paso/D0173A82-0F1B-474B-8168-1564BC5EC6B9 (3).pdf\n",
      "Processing: hojas_de_vida/java/No Paso/HV_pabloVelilla-info_english.pdf\n",
      "Processing: hojas_de_vida/java/No Paso/CV Diego Labastida 2022 (1).pdf\n",
      "Processing: hojas_de_vida/java/No Paso/Jaime Cadena (2).pdf\n",
      "Processing: hojas_de_vida/java/No Paso/Hernan_Zerrizuela_Resume.pdf\n",
      "Processing: hojas_de_vida/java/No Paso/Resume_eng.pdf\n",
      "Processing: hojas_de_vida/java/No Paso/Alvaro Cruz - Resume.pdf\n",
      "Processing: hojas_de_vida/java/No Paso/Felipe Nari§o - CV (JTL).pdf\n",
      "Processing: hojas_de_vida/java/No Paso/CV_ARNOLD_GAMARRA(ENGLISH).pdf\n",
      "Processing: hojas_de_vida/java/No Paso/Cv Juan Felipe Areiza Monsalve.pdf\n",
      "Processing: hojas_de_vida/java/No Paso/cv - jose nicolas garcia pineda (1) (1).pdf\n",
      "Processing: hojas_de_vida/java/No Paso/CV-EN-David_Hernandez.pdf\n",
      "Processing: hojas_de_vida/java/No Paso/CV - Cesar Colorado - Sr Java Developer - Spectar.pdf\n",
      "Processing: hojas_de_vida/java/No Paso/CV_NestorJulianMolina.pdf\n",
      "Processing: hojas_de_vida/java/No Paso/13984773-Twenty-Seconds_cv-7.pdf\n",
      "Processing: hojas_de_vida/java/No Paso/Resume.pdf\n",
      "Processing: hojas_de_vida/java/No Paso/cv_english_carlos_maturana_ (1).pdf\n",
      "Processing: hojas_de_vida/java/No Paso/cv_Silvano Andre.pdf\n",
      "Processing: hojas_de_vida/java/No Paso/0A6555DA-BEF3-4946-90A4-B0ED1A3C0DBA (1).pdf\n",
      "Processing: hojas_de_vida/java/No Paso/CV Jose Pedroza .pdf\n",
      "Processing: hojas_de_vida/java/No Paso/CV AGPJ.pdf\n",
      "Processing: hojas_de_vida/java/No Paso/CV Juan E. Silva M.-2-1.pdf\n",
      "Processing: hojas_de_vida/java/No Paso/Bryan Resume.pdf\n",
      "Processing: hojas_de_vida/java/No Paso/Resume Andres Rivera (1).pdf\n",
      "Processing: hojas_de_vida/java/No Paso/CV - Santiago Guerra Garrote.pdf\n",
      "Processing: hojas_de_vida/java/No Paso/Carlos_JosÇ_CortÇs_Rivera_-_Developer_And_Scrum_Master_Project_Manager.pdf\n",
      "Processing: hojas_de_vida/java/No Paso/RudyLuis_HernndezAvila.pdf\n",
      "Processing: hojas_de_vida/java/No Paso/CV - Josimar Sanchez - Sr Java Developer - Spectar.pdf\n",
      "Processing: hojas_de_vida/java/No Paso/JuanGRomeroS.pdf\n",
      "Processing: hojas_de_vida/java/No Paso/CV - Edisson Ruiz.pdf\n",
      "Processing: hojas_de_vida/java/No Paso/CV Ronaldo Geldres.pdf\n",
      "Processing: hojas_de_vida/java/No Paso/2FD690E9-B709-4A3A-B1C1-66C0AA76269Edocx.pdf\n",
      "Processing: hojas_de_vida/java/No Paso/Rafael_Parra_Eng (1).pdf\n",
      "Processing: hojas_de_vida/java/No Paso/Pedro Merino Resume 2024 (1).pdf\n",
      "Processing: hojas_de_vida/java/No Paso/CV Andres Bolivar eng .pdf\n",
      "Processing: hojas_de_vida/java/No Paso/CV Ashmed Diaz 2024-Sp (3).pdf\n",
      "Processing: hojas_de_vida/java/No Paso/Brayan Backend - CV.pdf\n",
      "No se pudo extraer texto de hojas_de_vida/java/No Paso/Brayan Backend - CV.pdf\n",
      "Processing: hojas_de_vida/java/No Paso/CV Hader.pdf\n",
      "Processing: hojas_de_vida/java/No Paso/CV_Christian_Piedra.pdf\n",
      "Processing: hojas_de_vida/java/No Paso/Hoja de Vida.pdf\n",
      "Processing: hojas_de_vida/java/No Paso/CVToSendAct2 (2).pdf\n",
      "Processing: hojas_de_vida/java/No Paso/CV  AndrÇs S†nchez(act).pdf\n",
      "Processing: hojas_de_vida/java/No Paso/Carlos_Zerga_Resume.pdf\n",
      "Processing: hojas_de_vida/java/No Paso/CV - Yesith Valencia (1).pdf\n",
      "Processing: hojas_de_vida/java/No Paso/Oscar Valencia-ResumeOct2022 (1).pdf\n",
      "Processing: hojas_de_vida/java/No Paso/Matias Ferrero Vilas - English.pdf\n",
      "Processing: hojas_de_vida/java/No Paso/GERMÁN OVALLE SILVA.pdf\n",
      "Processing: hojas_de_vida/java/No Paso/CV- Andres Santacruz ING 10-2024.pdf\n",
      "Processing: hojas_de_vida/java/No Paso/Jose Vizcaino - Frontend - Betsson Malta - remoti.pdf\n",
      "Processing: hojas_de_vida/java/No Paso/_Resume Fernando Gaona Juarez 2024_Javax (2).pdf\n",
      "Processing: hojas_de_vida/java/No Paso/96F01412-FC87-4288-971E-87C60481ACA0 (2).pdf\n",
      "Processing: hojas_de_vida/java/No Paso/Andres-Arredondo-CV (1).pdf\n",
      "Processing: hojas_de_vida/java/No Paso/CV_AndresBaquero.pdf\n",
      "Processing: hojas_de_vida/java/No Paso/CV_Wilhelm Steven Boada.pdf\n",
      "Processing: hojas_de_vida/java/No Paso/4221F539-1C32-4D76-9C55-5FD31316D509 (1).pdf\n",
      "Processing: hojas_de_vida/java/No Paso/CV Juan Saavedra Spanish (2).pdf\n",
      "Processing: hojas_de_vida/java/No Paso/CV_English_Lizeth_1.pdf\n",
      "Processing: hojas_de_vida/java/No Paso/Marcelo_Fabricio_de_Mello_-_Software_Developer.pdf\n",
      "Processing: hojas_de_vida/java/No Paso/resume Julian Andres Roman CV.pdf\n",
      "Processing: hojas_de_vida/java/No Paso/Curr°culum_0924.pdf\n",
      "Processing: hojas_de_vida/java/No Paso/CV Luis J Jimenez N.pdf\n",
      "Processing: hojas_de_vida/java/No Paso/COPY+OF+Resume-Mateo-Zapata-Caraballo.pdf\n",
      "Processing: hojas_de_vida/java/No Paso/CV_Juan_Amell_ENG (1).pdf\n",
      "Processing: hojas_de_vida/java/No Paso/FernandoBecerra_Resume (1).pdf\n",
      "Processing: hojas_de_vida/java/No Paso/Joan Resume 2022.pdf\n",
      "Processing: hojas_de_vida/java/No Paso/New_Hoja_de_Vida_Andres__English_ (1).pdf\n",
      "Processing: hojas_de_vida/java/No Paso/HANSEL JUNIOR OSPINO ORELLANO - RESUME (1).pdf\n",
      "Processing: hojas_de_vida/java/No Paso/Alejandro Arevalo Vasquez Resume (March 2024) (1).pdf\n",
      "Processing: hojas_de_vida/java/No Paso/MartinBravo-Resume.pdf\n",
      "Processing: hojas_de_vida/java/No Paso/Fermin Diaz CV.pdf\n",
      "Processing: hojas_de_vida/java/No Paso/Igor_cv.pdf\n",
      "Processing: hojas_de_vida/java/No Paso/CV_SantiagoMorales_JavaDev2024_ (2).pdf\n",
      "Processing: hojas_de_vida/java/No Paso/CV Brenda Yadira Gomez Sanchez 2024.pdf\n",
      "Processing: hojas_de_vida/java/No Paso/Profile Teja Manikanta Gorantla.pdf\n",
      "Processing: hojas_de_vida/java/No Paso/CV_CristianCuevas_2024_EN.pdf\n",
      "Processing: hojas_de_vida/java/No Paso/cv_eduardo_aragon.pdf\n",
      "Processing: hojas_de_vida/java/No Paso/Eileen Guerrero HV - English.pdf\n",
      "Processing: hojas_de_vida/java/No Paso/Resume_JohanVargas.pdf\n",
      "Processing: hojas_de_vida/java/No Paso/cv - Noe.pdf\n",
      "Processing: hojas_de_vida/java/No Paso/CV_DavidGuevaraMayorga_en- (1).pdf\n",
      "Processing: hojas_de_vida/java/No Paso/CV-IngenieroDesarrolloSoftware-RogerMontoya.pdf\n",
      "Processing: hojas_de_vida/java/No Paso/Resume-Juan-Antonio-Casillas-Aguiar.pdf\n",
      "Processing: hojas_de_vida/java/No Paso/PROFESSIONAL RESUME - Juan Camilo.pdf\n",
      "Processing: hojas_de_vida/java/No Paso/CV Victor.pdf\n",
      "Processing: hojas_de_vida/java/No Paso/CV-Pablo S Rodriguez-En-2022 (3) (1) (1).pdf\n",
      "Processing: hojas_de_vida/java/No Paso/CV-Fabian_Parra_English (1).pdf\n",
      "Processing: hojas_de_vida/java/No Paso/CV Juan_Manuel_Kelsy_Romero.pdf\n",
      "Processing: hojas_de_vida/java/No Paso/CV_MarcelaCa§onVargas.pdf\n",
      "Processing: hojas_de_vida/java/No Paso/CV Cristian Perez English 2024.pdf\n",
      "Processing: hojas_de_vida/java/No Paso/Dusting Posso CV 2023.pdf\n",
      "Processing: hojas_de_vida/java/No Paso/CV - Alejandro Aguilar.pdf\n",
      "Processing: hojas_de_vida/java/No Paso/Boris Palacios - 2024.fi.pdf\n",
      "Processing: hojas_de_vida/java/No Paso/CvJorgeAcevedo-1.pdf\n",
      "Processing: hojas_de_vida/java/No Paso/CV JEAN QUIROZ SANCHEZ.pdf\n",
      "Processing: hojas_de_vida/java/No Paso/Julian CV .pdf\n",
      "Processing: hojas_de_vida/java/No Paso/cv_manuel_bonilla_en_version.pdf\n",
      "Processing: hojas_de_vida/java/No Paso/CV Ramiro (1).pdf\n",
      "Processing: hojas_de_vida/java/No Paso/CV_AlejandroCastro_E.pdf\n",
      "Processing: hojas_de_vida/java/No Paso/CV_Cristian_Lopez__YS6ReUv.pdf\n",
      "Processing: hojas_de_vida/java/No Paso/HojaVida2022_CurriculumVitë.pdf\n",
      "Processing: hojas_de_vida/java/No Paso/CV-Luis-Leon-Ramirez.pdf\n",
      "Processing: hojas_de_vida/java/No Paso/ricardo_delarosa_march_20th_2024.fi (1).pdf\n",
      "Processing: hojas_de_vida/java/No Paso/Jose_Mario_Chaves.pdf\n",
      "Processing: hojas_de_vida/java/No Paso/CV Profesional (4) (1).pdf\n",
      "Processing: hojas_de_vida/java/No Paso/Navarro Moises_Java backend Dev (2).pdf\n",
      "Processing: hojas_de_vida/java/No Paso/AndrÇs Acosta CV-1.pdf\n",
      "Processing: hojas_de_vida/java/No Paso/CV-AbrahamHernandez-Ingles.pdf\n",
      "Processing: hojas_de_vida/java/No Paso/ManuelGutierrezCV.pdf\n",
      "Processing: hojas_de_vida/java/No Paso/CV Luis J Jimenez N (1).pdf\n",
      "Processing: hojas_de_vida/java/No Paso/14470412-CV - Guido Mantilla.docx (1).pdf\n",
      "Processing: hojas_de_vida/java/No Paso/Jonathan Amaya CV.pdf\n",
      "Processing: hojas_de_vida/java/No Paso/Resume_FrancoGarciaGonzalez-.pdf\n",
      "Processing: hojas_de_vida/java/No Paso/CV_Breymer_Robles.pdf\n",
      "Processing: hojas_de_vida/java/No Paso/OrlandoSu†rezCV-1-1 (1).pdf\n",
      "Processing: hojas_de_vida/java/No Paso/CV Ivan Perez-02.pdf\n",
      "Processing: hojas_de_vida/java/No Paso/Antonio Casas.pdf\n",
      "Processing: hojas_de_vida/java/No Paso/CVJLuna25.pdf\n",
      "Processing: hojas_de_vida/java/No Paso/CV-Javier2024Es (1).pdf\n",
      "Processing: hojas_de_vida/java/No Paso/CV di Napoli Franco.pdf\n",
      "Processing: hojas_de_vida/java/No Paso/hv_ingles_Felipe.pdf\n",
      "Processing: hojas_de_vida/java/No Paso/3CB7A093-2EB1-469E-9F8B-117A64D6754D (3).pdf\n",
      "Processing: hojas_de_vida/java/No Paso/Carlos Pinto Jimenez_CV.docx.pdf\n",
      "Processing: hojas_de_vida/java/No Paso/PepeResumeA-1-1 (1).pdf\n",
      "Processing: hojas_de_vida/java/No Paso/LUIS FELIPE MOCTEZUMA RUIZ-CV.pdf\n",
      "Processing: hojas_de_vida/java/No Paso/Daniel's CV 2022 Spanish.pdf\n"
     ]
    }
   ],
   "execution_count": 19
  },
  {
   "cell_type": "markdown",
   "id": "6c813ce55f78af12",
   "metadata": {},
   "source": [
    "Se guarda esta información en un dataframe"
   ]
  },
  {
   "cell_type": "code",
   "id": "1f0d421d0c57f9f7",
   "metadata": {
    "ExecuteTime": {
     "end_time": "2025-03-15T22:19:31.062760Z",
     "start_time": "2025-03-15T22:19:31.052378Z"
    }
   },
   "source": [
    "data_total = successful_data + unsuccessful_data\n",
    "baseCVs = pd.DataFrame(data_total)"
   ],
   "outputs": [],
   "execution_count": 20
  },
  {
   "cell_type": "code",
   "id": "f1d1f15d74f5a89a",
   "metadata": {
    "ExecuteTime": {
     "end_time": "2025-03-15T22:19:31.096884Z",
     "start_time": "2025-03-15T22:19:31.082880Z"
    }
   },
   "source": [
    "baseCVs"
   ],
   "outputs": [
    {
     "data": {
      "text/plain": [
       "                                               CV_Name  Total_Word_Count  \\\n",
       "0                           Resume Hector Bedoya L.pdf               378   \n",
       "1    985269fa-a528-46aa-bc9c-403ee23fbcd3_CV Felipe...               695   \n",
       "2                                    CV-JDC-EN (2).pdf               656   \n",
       "3                 Miguel Santos Java Developer (1).pdf              2355   \n",
       "4                                  denis_cv_en_new.pdf              1129   \n",
       "..                                                 ...               ...   \n",
       "301       3CB7A093-2EB1-469E-9F8B-117A64D6754D (3).pdf               524   \n",
       "302                   Carlos Pinto Jimenez_CV.docx.pdf              1416   \n",
       "303                            PepeResumeA-1-1 (1).pdf              3729   \n",
       "304                  LUIS FELIPE MOCTEZUMA RUIZ-CV.pdf               899   \n",
       "305                       Daniel's CV 2022 Spanish.pdf              1237   \n",
       "\n",
       "     Has_Photo  Has_Colors  Pages  Keyword_Count  Education_Exists  \\\n",
       "0            0           1      1              9                 1   \n",
       "1            1           1      4             13                 0   \n",
       "2            1           1      3             13                 1   \n",
       "3            0           1     10             14                 1   \n",
       "4            0           1      4             11                 1   \n",
       "..         ...         ...    ...            ...               ...   \n",
       "301          0           1      1              5                 1   \n",
       "302          1           1      6             14                 1   \n",
       "303          1           1     10             14                 1   \n",
       "304          0           1      3              8                 1   \n",
       "305          1           1      4             11                 0   \n",
       "\n",
       "     Education_Word_Count  Work_Experience_Exists  Work_Experience_Word_Count  \\\n",
       "0                      23                       1                          68   \n",
       "1                       0                       0                           0   \n",
       "2                      29                       1                          21   \n",
       "3                      18                       1                          12   \n",
       "4                      13                       1                           9   \n",
       "..                    ...                     ...                         ...   \n",
       "301                    43                       1                         299   \n",
       "302                    51                       1                        1199   \n",
       "303                    42                       0                           0   \n",
       "304                    28                       1                           1   \n",
       "305                     0                       0                           0   \n",
       "\n",
       "     Skills_Exists  Skills_Word_Count  Certifications_Exists  \\\n",
       "0                1                  8                      0   \n",
       "1                1                637                      0   \n",
       "2                1                 14                      0   \n",
       "3                1                 84                      0   \n",
       "4                1                 79                      0   \n",
       "..             ...                ...                    ...   \n",
       "301              1                  1                      0   \n",
       "302              1                  3                      0   \n",
       "303              1               3660                      0   \n",
       "304              1                  9                      0   \n",
       "305              0                  0                      0   \n",
       "\n",
       "     Certifications_Word_Count  Achievements_Exists  Achievements_Word_Count  \\\n",
       "0                            0                    0                        0   \n",
       "1                            0                    0                        0   \n",
       "2                            0                    0                        0   \n",
       "3                            0                    0                        0   \n",
       "4                            0                    0                        0   \n",
       "..                         ...                  ...                      ...   \n",
       "301                          0                    0                        0   \n",
       "302                          0                    0                        0   \n",
       "303                          0                    0                        0   \n",
       "304                          0                    1                        7   \n",
       "305                          0                    0                        0   \n",
       "\n",
       "     Professional_Profile_Exists  Professional_Profile_Word_Count  Passed  \n",
       "0                              1                                8       1  \n",
       "1                              0                                0       1  \n",
       "2                              1                               14       1  \n",
       "3                              1                                1       1  \n",
       "4                              1                                1       1  \n",
       "..                           ...                              ...     ...  \n",
       "301                            1                                2       0  \n",
       "302                            0                                0       0  \n",
       "303                            1                               18       0  \n",
       "304                            1                               59       0  \n",
       "305                            0                                0       0  \n",
       "\n",
       "[306 rows x 19 columns]"
      ],
      "text/html": [
       "<div>\n",
       "<style scoped>\n",
       "    .dataframe tbody tr th:only-of-type {\n",
       "        vertical-align: middle;\n",
       "    }\n",
       "\n",
       "    .dataframe tbody tr th {\n",
       "        vertical-align: top;\n",
       "    }\n",
       "\n",
       "    .dataframe thead th {\n",
       "        text-align: right;\n",
       "    }\n",
       "</style>\n",
       "<table border=\"1\" class=\"dataframe\">\n",
       "  <thead>\n",
       "    <tr style=\"text-align: right;\">\n",
       "      <th></th>\n",
       "      <th>CV_Name</th>\n",
       "      <th>Total_Word_Count</th>\n",
       "      <th>Has_Photo</th>\n",
       "      <th>Has_Colors</th>\n",
       "      <th>Pages</th>\n",
       "      <th>Keyword_Count</th>\n",
       "      <th>Education_Exists</th>\n",
       "      <th>Education_Word_Count</th>\n",
       "      <th>Work_Experience_Exists</th>\n",
       "      <th>Work_Experience_Word_Count</th>\n",
       "      <th>Skills_Exists</th>\n",
       "      <th>Skills_Word_Count</th>\n",
       "      <th>Certifications_Exists</th>\n",
       "      <th>Certifications_Word_Count</th>\n",
       "      <th>Achievements_Exists</th>\n",
       "      <th>Achievements_Word_Count</th>\n",
       "      <th>Professional_Profile_Exists</th>\n",
       "      <th>Professional_Profile_Word_Count</th>\n",
       "      <th>Passed</th>\n",
       "    </tr>\n",
       "  </thead>\n",
       "  <tbody>\n",
       "    <tr>\n",
       "      <th>0</th>\n",
       "      <td>Resume Hector Bedoya L.pdf</td>\n",
       "      <td>378</td>\n",
       "      <td>0</td>\n",
       "      <td>1</td>\n",
       "      <td>1</td>\n",
       "      <td>9</td>\n",
       "      <td>1</td>\n",
       "      <td>23</td>\n",
       "      <td>1</td>\n",
       "      <td>68</td>\n",
       "      <td>1</td>\n",
       "      <td>8</td>\n",
       "      <td>0</td>\n",
       "      <td>0</td>\n",
       "      <td>0</td>\n",
       "      <td>0</td>\n",
       "      <td>1</td>\n",
       "      <td>8</td>\n",
       "      <td>1</td>\n",
       "    </tr>\n",
       "    <tr>\n",
       "      <th>1</th>\n",
       "      <td>985269fa-a528-46aa-bc9c-403ee23fbcd3_CV Felipe...</td>\n",
       "      <td>695</td>\n",
       "      <td>1</td>\n",
       "      <td>1</td>\n",
       "      <td>4</td>\n",
       "      <td>13</td>\n",
       "      <td>0</td>\n",
       "      <td>0</td>\n",
       "      <td>0</td>\n",
       "      <td>0</td>\n",
       "      <td>1</td>\n",
       "      <td>637</td>\n",
       "      <td>0</td>\n",
       "      <td>0</td>\n",
       "      <td>0</td>\n",
       "      <td>0</td>\n",
       "      <td>0</td>\n",
       "      <td>0</td>\n",
       "      <td>1</td>\n",
       "    </tr>\n",
       "    <tr>\n",
       "      <th>2</th>\n",
       "      <td>CV-JDC-EN (2).pdf</td>\n",
       "      <td>656</td>\n",
       "      <td>1</td>\n",
       "      <td>1</td>\n",
       "      <td>3</td>\n",
       "      <td>13</td>\n",
       "      <td>1</td>\n",
       "      <td>29</td>\n",
       "      <td>1</td>\n",
       "      <td>21</td>\n",
       "      <td>1</td>\n",
       "      <td>14</td>\n",
       "      <td>0</td>\n",
       "      <td>0</td>\n",
       "      <td>0</td>\n",
       "      <td>0</td>\n",
       "      <td>1</td>\n",
       "      <td>14</td>\n",
       "      <td>1</td>\n",
       "    </tr>\n",
       "    <tr>\n",
       "      <th>3</th>\n",
       "      <td>Miguel Santos Java Developer (1).pdf</td>\n",
       "      <td>2355</td>\n",
       "      <td>0</td>\n",
       "      <td>1</td>\n",
       "      <td>10</td>\n",
       "      <td>14</td>\n",
       "      <td>1</td>\n",
       "      <td>18</td>\n",
       "      <td>1</td>\n",
       "      <td>12</td>\n",
       "      <td>1</td>\n",
       "      <td>84</td>\n",
       "      <td>0</td>\n",
       "      <td>0</td>\n",
       "      <td>0</td>\n",
       "      <td>0</td>\n",
       "      <td>1</td>\n",
       "      <td>1</td>\n",
       "      <td>1</td>\n",
       "    </tr>\n",
       "    <tr>\n",
       "      <th>4</th>\n",
       "      <td>denis_cv_en_new.pdf</td>\n",
       "      <td>1129</td>\n",
       "      <td>0</td>\n",
       "      <td>1</td>\n",
       "      <td>4</td>\n",
       "      <td>11</td>\n",
       "      <td>1</td>\n",
       "      <td>13</td>\n",
       "      <td>1</td>\n",
       "      <td>9</td>\n",
       "      <td>1</td>\n",
       "      <td>79</td>\n",
       "      <td>0</td>\n",
       "      <td>0</td>\n",
       "      <td>0</td>\n",
       "      <td>0</td>\n",
       "      <td>1</td>\n",
       "      <td>1</td>\n",
       "      <td>1</td>\n",
       "    </tr>\n",
       "    <tr>\n",
       "      <th>...</th>\n",
       "      <td>...</td>\n",
       "      <td>...</td>\n",
       "      <td>...</td>\n",
       "      <td>...</td>\n",
       "      <td>...</td>\n",
       "      <td>...</td>\n",
       "      <td>...</td>\n",
       "      <td>...</td>\n",
       "      <td>...</td>\n",
       "      <td>...</td>\n",
       "      <td>...</td>\n",
       "      <td>...</td>\n",
       "      <td>...</td>\n",
       "      <td>...</td>\n",
       "      <td>...</td>\n",
       "      <td>...</td>\n",
       "      <td>...</td>\n",
       "      <td>...</td>\n",
       "      <td>...</td>\n",
       "    </tr>\n",
       "    <tr>\n",
       "      <th>301</th>\n",
       "      <td>3CB7A093-2EB1-469E-9F8B-117A64D6754D (3).pdf</td>\n",
       "      <td>524</td>\n",
       "      <td>0</td>\n",
       "      <td>1</td>\n",
       "      <td>1</td>\n",
       "      <td>5</td>\n",
       "      <td>1</td>\n",
       "      <td>43</td>\n",
       "      <td>1</td>\n",
       "      <td>299</td>\n",
       "      <td>1</td>\n",
       "      <td>1</td>\n",
       "      <td>0</td>\n",
       "      <td>0</td>\n",
       "      <td>0</td>\n",
       "      <td>0</td>\n",
       "      <td>1</td>\n",
       "      <td>2</td>\n",
       "      <td>0</td>\n",
       "    </tr>\n",
       "    <tr>\n",
       "      <th>302</th>\n",
       "      <td>Carlos Pinto Jimenez_CV.docx.pdf</td>\n",
       "      <td>1416</td>\n",
       "      <td>1</td>\n",
       "      <td>1</td>\n",
       "      <td>6</td>\n",
       "      <td>14</td>\n",
       "      <td>1</td>\n",
       "      <td>51</td>\n",
       "      <td>1</td>\n",
       "      <td>1199</td>\n",
       "      <td>1</td>\n",
       "      <td>3</td>\n",
       "      <td>0</td>\n",
       "      <td>0</td>\n",
       "      <td>0</td>\n",
       "      <td>0</td>\n",
       "      <td>0</td>\n",
       "      <td>0</td>\n",
       "      <td>0</td>\n",
       "    </tr>\n",
       "    <tr>\n",
       "      <th>303</th>\n",
       "      <td>PepeResumeA-1-1 (1).pdf</td>\n",
       "      <td>3729</td>\n",
       "      <td>1</td>\n",
       "      <td>1</td>\n",
       "      <td>10</td>\n",
       "      <td>14</td>\n",
       "      <td>1</td>\n",
       "      <td>42</td>\n",
       "      <td>0</td>\n",
       "      <td>0</td>\n",
       "      <td>1</td>\n",
       "      <td>3660</td>\n",
       "      <td>0</td>\n",
       "      <td>0</td>\n",
       "      <td>0</td>\n",
       "      <td>0</td>\n",
       "      <td>1</td>\n",
       "      <td>18</td>\n",
       "      <td>0</td>\n",
       "    </tr>\n",
       "    <tr>\n",
       "      <th>304</th>\n",
       "      <td>LUIS FELIPE MOCTEZUMA RUIZ-CV.pdf</td>\n",
       "      <td>899</td>\n",
       "      <td>0</td>\n",
       "      <td>1</td>\n",
       "      <td>3</td>\n",
       "      <td>8</td>\n",
       "      <td>1</td>\n",
       "      <td>28</td>\n",
       "      <td>1</td>\n",
       "      <td>1</td>\n",
       "      <td>1</td>\n",
       "      <td>9</td>\n",
       "      <td>0</td>\n",
       "      <td>0</td>\n",
       "      <td>1</td>\n",
       "      <td>7</td>\n",
       "      <td>1</td>\n",
       "      <td>59</td>\n",
       "      <td>0</td>\n",
       "    </tr>\n",
       "    <tr>\n",
       "      <th>305</th>\n",
       "      <td>Daniel's CV 2022 Spanish.pdf</td>\n",
       "      <td>1237</td>\n",
       "      <td>1</td>\n",
       "      <td>1</td>\n",
       "      <td>4</td>\n",
       "      <td>11</td>\n",
       "      <td>0</td>\n",
       "      <td>0</td>\n",
       "      <td>0</td>\n",
       "      <td>0</td>\n",
       "      <td>0</td>\n",
       "      <td>0</td>\n",
       "      <td>0</td>\n",
       "      <td>0</td>\n",
       "      <td>0</td>\n",
       "      <td>0</td>\n",
       "      <td>0</td>\n",
       "      <td>0</td>\n",
       "      <td>0</td>\n",
       "    </tr>\n",
       "  </tbody>\n",
       "</table>\n",
       "<p>306 rows × 19 columns</p>\n",
       "</div>"
      ]
     },
     "execution_count": 21,
     "metadata": {},
     "output_type": "execute_result"
    }
   ],
   "execution_count": 21
  },
  {
   "cell_type": "markdown",
   "id": "c4b671230b798b33",
   "metadata": {},
   "source": [
    "### Exportar base en un archivo CSV para posterior lectura"
   ]
  },
  {
   "cell_type": "code",
   "id": "b00bc5200b33dfd7",
   "metadata": {
    "ExecuteTime": {
     "end_time": "2025-03-15T22:19:31.238035Z",
     "start_time": "2025-03-15T22:19:31.230889Z"
    }
   },
   "source": [
    "baseCVs.to_csv(\"baseCVs.csv\", index=False)"
   ],
   "outputs": [],
   "execution_count": 22
  }
 ],
 "metadata": {
  "kernelspec": {
   "display_name": ".venv",
   "language": "python",
   "name": "python3"
  },
  "language_info": {
   "codemirror_mode": {
    "name": "ipython",
    "version": 3
   },
   "file_extension": ".py",
   "mimetype": "text/x-python",
   "name": "python",
   "nbconvert_exporter": "python",
   "pygments_lexer": "ipython3",
   "version": "3.11.10"
  }
 },
 "nbformat": 4,
 "nbformat_minor": 5
}
