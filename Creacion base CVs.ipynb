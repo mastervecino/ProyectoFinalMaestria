{
 "cells": [
  {
   "cell_type": "markdown",
   "id": "67fe6a771648b5cc",
   "metadata": {},
   "source": [
    "# Creación de base de datos para identificación de HVs\n",
    "\n",
    "El presente archivo se creará la base de datos extrayendo información de HVs usando procesamiento de lenguaje natural. Esto con el objetivo de más adelante tener la posibilidad de generar con base en 300 HVs tanto rechazadas como avanzadas, un modelo que nos permita identificar las características predominantes de una HV que hace que avance o no durante el proceso.\n",
    "\n"
   ]
  },
  {
   "cell_type": "markdown",
   "id": "1c1966813e3e9fa9",
   "metadata": {},
   "source": [
    "#### Importar librerias"
   ]
  },
  {
   "cell_type": "code",
   "execution_count": 6,
   "id": "fb3e23ba42466f7a",
   "metadata": {
    "jupyter": {
     "is_executing": true
    }
   },
   "outputs": [],
   "source": [
    "import os\n",
    "import fitz  # PyMuPDF for PDFs\n",
    "import pytesseract\n",
    "from PIL import Image\n",
    "import pandas as pd\n",
    "import re\n",
    "import spacy"
   ]
  },
  {
   "cell_type": "markdown",
   "id": "b42576fa4a496b8d",
   "metadata": {},
   "source": [
    "### Importar SpaCy para NLP\n",
    "Spacy es una librería de python que permite por medio de modelos de lenguaje pre-importados realizar análisis de texto, identificando palabras, nombres, lugares, objetos, verbos, adjetivos y la relación entre los mismos.\n",
    "\n",
    "En este caso, importamos el modelo pre-entrenado en inglés, lo que requiere que todas las CVs a procesar estén en este idioma.\n"
   ]
  },
  {
   "cell_type": "code",
   "execution_count": 7,
   "id": "a07efd1e8999fca0",
   "metadata": {
    "ExecuteTime": {
     "end_time": "2025-03-15T16:38:11.656135Z",
     "start_time": "2025-03-14T03:56:45.216904Z"
    }
   },
   "outputs": [],
   "source": [
    "nlp = spacy.load(\"en_core_web_sm\")"
   ]
  },
  {
   "cell_type": "markdown",
   "id": "d8bff966235be316",
   "metadata": {},
   "source": [
    "#### Cargar las carpetas con las HVs"
   ]
  },
  {
   "cell_type": "code",
   "execution_count": 8,
   "id": "33d08bd86bbbdf7d",
   "metadata": {
    "ExecuteTime": {
     "end_time": "2025-03-15T16:38:11.656518Z",
     "start_time": "2025-03-14T03:56:46.081070Z"
    }
   },
   "outputs": [],
   "source": [
    "hv_dir_exitosas = \"HVs para base/Paso\"\n",
    "hv_dir_noexitosas = \"HVs para base/No Paso\""
   ]
  },
  {
   "cell_type": "markdown",
   "id": "93a9c52ba4a5d0b5",
   "metadata": {},
   "source": [
    "### Deifinir palabras clave\n",
    "En este caso, se definirar palabras clave que podrán tener las HVs teniendo en cuenta que para este modelo en particular se está utlizando solo HVs para un requerimiento de **desarrolladores Java**.\n",
    "\n",
    "Debemos usar algunas repetidas para atenuar que hayan usado mayúsculas, espacios o símbolos\n"
   ]
  },
  {
   "cell_type": "code",
   "execution_count": 9,
   "id": "eaeb43eba8c9c77b",
   "metadata": {
    "ExecuteTime": {
     "end_time": "2025-03-15T16:38:11.680413Z",
     "start_time": "2025-03-14T03:56:46.120735Z"
    }
   },
   "outputs": [],
   "source": [
    "palabras_clave = [\"Java\", \"java\", \"Spring\", \"spring\", \"spring boot\", \"Spring Boot\", \"AWS\", \"aws\", \"Azure\", \"azure\", \"GCP\", \"Google Cloud Platform\", \"google cloud platform\", \"microservices\", \"Maven\", \"maven\", \"gradle\", \"Gradle\", \"Java Server Pages\", \"JSP\", \"JEE\", \"Java Enterprise Edition\", \"Java8\", \"Java11\", \"Java17\", \"Java21\", \"JVM\", \"Java virtual machine\", \"Java Virtual Machine\"]"
   ]
  },
  {
   "cell_type": "markdown",
   "id": "4aa4a34a408593ec",
   "metadata": {},
   "source": [
    "### Definir las secciones y los patrones en las que estas van a aparecer\n",
    "Además de definir la cantidad de palabras clave, es importante contar con las secciones con las que cada documento puede contar y entender si cuenta o no con este."
   ]
  },
  {
   "cell_type": "code",
   "execution_count": 10,
   "id": "fd0d495a9cac2d73",
   "metadata": {
    "ExecuteTime": {
     "end_time": "2025-03-15T16:38:11.680971Z",
     "start_time": "2025-03-14T03:56:46.164669Z"
    }
   },
   "outputs": [],
   "source": [
    "secciones = {\n",
    "    \"education\": r\"education|academic background|studies\",\n",
    "    \"work_experience\": r\"work experience|employment history|professional experience|experience|professional background|background\",\n",
    "    \"skills\": r\"skills|technical skills|competencies|programming languages|frameworks\",\n",
    "    \"certifications\": r\"certifications|licenses|accreditations\",\n",
    "    \"achievements\": r\"achievements|accomplishments|recognitions\",\n",
    "    \"professional_profile\": r\"profile|summary|about me|professional summary|objective\"\n",
    "}"
   ]
  },
  {
   "cell_type": "markdown",
   "id": "501b64d86debc1fc",
   "metadata": {},
   "source": [
    "### Extraer el texto de los PDFs\n",
    "\n",
    "A continuación se usará la librería FITZ, la cual ayuda a extraer el texto de un PDF, ver si tiene imágenes, contar sus páginas y detectar colores en los mismos.\n",
    "\n",
    "La declaramos como función para llamarla más adelante en el procesamiento de todas las características que buscamos extraer."
   ]
  },
  {
   "cell_type": "code",
   "execution_count": 11,
   "id": "25a802e5d6a652d8",
   "metadata": {
    "ExecuteTime": {
     "end_time": "2025-03-15T16:38:11.681320Z",
     "start_time": "2025-03-14T03:56:46.216053Z"
    }
   },
   "outputs": [],
   "source": [
    "def extraer_texto_pdf(pdf_path):\n",
    "    text = \"\"\n",
    "    try:\n",
    "        doc = fitz.open(pdf_path)\n",
    "        for page in doc:\n",
    "            text += page.get_text(\"text\") + \"\\n\"\n",
    "    except Exception as e:\n",
    "        print(f\"Leyendo PDF {pdf_path}: {e}\")\n",
    "    return text.strip()"
   ]
  },
  {
   "cell_type": "markdown",
   "id": "ee083f0b03f98d0a",
   "metadata": {},
   "source": [
    "### Contar palabras en general"
   ]
  },
  {
   "cell_type": "code",
   "execution_count": 12,
   "id": "f21a5383d486ed58",
   "metadata": {
    "ExecuteTime": {
     "end_time": "2025-03-15T16:38:11.681466Z",
     "start_time": "2025-03-14T03:56:46.258069Z"
    }
   },
   "outputs": [],
   "source": [
    "def contar_palabras(text):\n",
    "    return len(text.split()) if text else 0"
   ]
  },
  {
   "cell_type": "markdown",
   "id": "f11366355a255205",
   "metadata": {},
   "source": [
    "#### Contar palabras clave"
   ]
  },
  {
   "cell_type": "code",
   "execution_count": 13,
   "id": "71718497e8a8e459",
   "metadata": {
    "ExecuteTime": {
     "end_time": "2025-03-15T16:38:11.681610Z",
     "start_time": "2025-03-14T03:56:46.294140Z"
    }
   },
   "outputs": [],
   "source": [
    "def contar_palabras_clave(text, keyword_list):\n",
    "    text_lower = text.lower()\n",
    "    return sum(1 for keyword in keyword_list if keyword.lower() in text_lower)"
   ]
  },
  {
   "cell_type": "markdown",
   "id": "ea71f79c135a8322",
   "metadata": {},
   "source": [
    "#### Extraer las secciones"
   ]
  },
  {
   "cell_type": "markdown",
   "id": "5807a2538554b7a9",
   "metadata": {},
   "source": [
    "Para extraer las secciones, usamos expresiones regulares. Con la biblioteca Re, busca el patron definido en la variable secciones más arriba, que ayuda a identificar si el texto obtenido del PDF tiene o no esta sección."
   ]
  },
  {
   "cell_type": "code",
   "execution_count": 14,
   "id": "ea6fcdc83dc741aa",
   "metadata": {
    "ExecuteTime": {
     "end_time": "2025-03-15T16:38:11.681715Z",
     "start_time": "2025-03-14T03:56:46.328076Z"
    }
   },
   "outputs": [],
   "source": [
    "import re\n",
    "\n",
    "def extraer_secciones(text):\n",
    "    sections = {key: {\"exists\": False, \"word_count\": 0} for key in secciones.keys()}\n",
    "\n",
    "    for section, pattern in secciones.items():\n",
    "        match = re.search(pattern, text, re.IGNORECASE)\n",
    "        if match:\n",
    "            sections[section][\"exists\"] = True  # Section exists\n",
    "            section_start = match.start()\n",
    "            next_match = min(\n",
    "                (m.start() for s, p in secciones.items() if (m := re.search(p, text[section_start + 1:], re.IGNORECASE))),\n",
    "                default=len(text)\n",
    "            )\n",
    "            sections[section][\"word_count\"] = contar_palabras(text[section_start:section_start + next_match])\n",
    "\n",
    "    return sections"
   ]
  },
  {
   "cell_type": "markdown",
   "id": "835269bac70c5d34",
   "metadata": {},
   "source": [
    "### Verificar factores como foto y colores\n",
    "De vuelta se usa la librería fitz para poder leer el PDF"
   ]
  },
  {
   "cell_type": "markdown",
   "id": "5b5d9fc545491141",
   "metadata": {},
   "source": [
    "#### Verificar si tiene o no foto"
   ]
  },
  {
   "cell_type": "code",
   "execution_count": 15,
   "id": "3cfd0e8691ad5b25",
   "metadata": {
    "ExecuteTime": {
     "end_time": "2025-03-15T16:38:11.681826Z",
     "start_time": "2025-03-14T03:56:46.336524Z"
    }
   },
   "outputs": [],
   "source": [
    "def tiene_foto_pdf(pdf_path):\n",
    "    try:\n",
    "        doc = fitz.open(pdf_path)\n",
    "        for page in doc:\n",
    "            if len(page.get_images(full=True)) > 0:\n",
    "                return True\n",
    "    except Exception as e:\n",
    "        print(f\"Error revisando foto en PDF {pdf_path}: {e}\")\n",
    "    return False"
   ]
  },
  {
   "cell_type": "markdown",
   "id": "53be24b9e57cb96",
   "metadata": {},
   "source": [
    "#### Verificar si tiene colores adicionales el PDF"
   ]
  },
  {
   "cell_type": "code",
   "execution_count": 16,
   "id": "1a4d64ac7fd49f7d",
   "metadata": {
    "ExecuteTime": {
     "end_time": "2025-03-15T16:38:11.681955Z",
     "start_time": "2025-03-14T03:56:46.366564Z"
    }
   },
   "outputs": [],
   "source": [
    "def tiene_color_pdf(pdf_path):\n",
    "    doc = fitz.open(pdf_path)\n",
    "\n",
    "    for page in doc:\n",
    "        for draw in page.get_drawings():\n",
    "            if \"color\" in draw:\n",
    "                return True\n",
    "\n",
    "    return False"
   ]
  },
  {
   "cell_type": "markdown",
   "id": "6791c0a977c9c6e5",
   "metadata": {},
   "source": [
    "#### Contar páginas"
   ]
  },
  {
   "cell_type": "code",
   "execution_count": 17,
   "id": "6ff84af80f7c87a9",
   "metadata": {
    "ExecuteTime": {
     "end_time": "2025-03-15T16:38:11.682057Z",
     "start_time": "2025-03-14T03:56:46.389548Z"
    }
   },
   "outputs": [],
   "source": [
    "def contar_paginas(pdf_path):\n",
    "    try:\n",
    "        doc = fitz.open(pdf_path)\n",
    "        return len(doc)\n",
    "    except Exception as e:\n",
    "        print(f\"Error counting pages in PDF {pdf_path}: {e}\")\n",
    "        return 1"
   ]
  },
  {
   "cell_type": "markdown",
   "id": "f239daf5e814c354",
   "metadata": {},
   "source": [
    "### Procesamiento del CV\n",
    "A continuación la función de procesamiento, nos ayudará a procesar un solo CV de acuerdo a los parámetros establecidos anteriormente, ejecutando cada una de las funciones ya establecidas"
   ]
  },
  {
   "cell_type": "code",
   "execution_count": 18,
   "id": "64da431faefcd6d7",
   "metadata": {
    "ExecuteTime": {
     "end_time": "2025-03-15T16:38:11.682149Z",
     "start_time": "2025-03-14T03:56:46.411553Z"
    }
   },
   "outputs": [],
   "source": [
    "def process_cv(cv_path):\n",
    "    text = \"\"\n",
    "    has_photo = False\n",
    "    has_colors = False\n",
    "    num_pages = 1\n",
    "\n",
    "    text = extraer_texto_pdf(cv_path)\n",
    "    has_photo = tiene_foto_pdf(cv_path)\n",
    "    has_colors = tiene_color_pdf(cv_path)\n",
    "    num_pages = contar_paginas(cv_path)\n",
    "\n",
    "    if not text:\n",
    "        print(f\"No se pudo extraer texto de {cv_path}\")\n",
    "\n",
    "    # Extract features\n",
    "    total_word_count = contar_palabras(text)\n",
    "    keyword_count = contar_palabras_clave(text, palabras_clave)\n",
    "    sections = extraer_secciones(text)\n",
    "\n",
    "    return {\n",
    "        \"CV_Name\": os.path.basename(cv_path),\n",
    "        \"Total_Word_Count\": total_word_count,\n",
    "        \"Has_Photo\": int(has_photo),\n",
    "        \"Has_Colors\": int(has_colors),\n",
    "        \"Pages\": num_pages,\n",
    "        \"Keyword_Count\": keyword_count,\n",
    "        \"Education_Exists\": int(sections[\"education\"][\"exists\"]),\n",
    "        \"Education_Word_Count\": sections[\"education\"][\"word_count\"],\n",
    "        \"Work_Experience_Exists\": int(sections[\"work_experience\"][\"exists\"]),\n",
    "        \"Work_Experience_Word_Count\": sections[\"work_experience\"][\"word_count\"],\n",
    "        \"Skills_Exists\": int(sections[\"skills\"][\"exists\"]),\n",
    "        \"Skills_Word_Count\": sections[\"skills\"][\"word_count\"],\n",
    "        \"Certifications_Exists\": int(sections[\"certifications\"][\"exists\"]),\n",
    "        \"Certifications_Word_Count\": sections[\"certifications\"][\"word_count\"],\n",
    "        \"Achievements_Exists\": int(sections[\"achievements\"][\"exists\"]),\n",
    "        \"Achievements_Word_Count\": sections[\"achievements\"][\"word_count\"],\n",
    "        \"Professional_Profile_Exists\": int(sections[\"professional_profile\"][\"exists\"]),\n",
    "        \"Professional_Profile_Word_Count\": sections[\"professional_profile\"][\"word_count\"],\n",
    "    }"
   ]
  },
  {
   "cell_type": "markdown",
   "id": "dfff08f7a7c59f83",
   "metadata": {},
   "source": [
    "### Procesamiento de CVs en la carpeta\n",
    "La siguiente función nos ayuda a de acuerdo con lo establecido anteriormente, procesar todas las CVs en las carpetas seleccionadas y devolverlas en una lista"
   ]
  },
  {
   "cell_type": "code",
   "execution_count": 19,
   "id": "6867ff751fe98fd8",
   "metadata": {
    "ExecuteTime": {
     "end_time": "2025-03-15T16:38:11.682264Z",
     "start_time": "2025-03-14T03:56:46.435543Z"
    }
   },
   "outputs": [],
   "source": [
    "def process_folder(folder_path, label):\n",
    "    cv_data = []\n",
    "    for filename in os.listdir(folder_path):\n",
    "        if filename.endswith(\".pdf\"):\n",
    "            cv_path = os.path.join(folder_path, filename)\n",
    "            print(f\"Processing: {cv_path}\")\n",
    "            cv_info = process_cv(cv_path)\n",
    "            cv_info[\"Passed\"] = label\n",
    "            cv_data.append(cv_info)\n",
    "    return cv_data"
   ]
  },
  {
   "cell_type": "markdown",
   "id": "cbc3343a7fb016b6",
   "metadata": {},
   "source": [
    "## Creación de la base de datos"
   ]
  },
  {
   "cell_type": "markdown",
   "id": "6b0b6bcf93f240cd",
   "metadata": {},
   "source": [
    "Se crean las variables donde se almacenan las CVs exitosas procesadas, agregando la información de 1 si es exitosa y 0 si no es exitosa."
   ]
  },
  {
   "cell_type": "code",
   "execution_count": null,
   "id": "c129776ed7a42879",
   "metadata": {
    "ExecuteTime": {
     "end_time": "2025-03-15T16:38:11.682432Z",
     "start_time": "2025-03-14T03:56:46.456654Z"
    }
   },
   "outputs": [
    {
     "name": "stdout",
     "output_type": "stream",
     "text": [
      "Processing: HVs para base/Paso/HojaVida2022_CurriculumVitæ.pdf\n"
     ]
    }
   ],
   "source": [
    "successful_data = process_folder(hv_dir_exitosas, 1)  # Label = 1 (Passed)\n",
    "unsuccessful_data = process_folder(hv_dir_noexitosas, 0)  # Label = 0 (Not Passed)"
   ]
  },
  {
   "cell_type": "markdown",
   "id": "6c813ce55f78af12",
   "metadata": {},
   "source": [
    "Se guarda esta información en un dataframe"
   ]
  },
  {
   "cell_type": "code",
   "execution_count": null,
   "id": "1f0d421d0c57f9f7",
   "metadata": {
    "ExecuteTime": {
     "end_time": "2025-03-15T16:38:11.682571Z",
     "start_time": "2025-03-14T03:57:02.057693Z"
    }
   },
   "outputs": [],
   "source": [
    "data_total = successful_data + unsuccessful_data\n",
    "baseCVs = pd.DataFrame(data_total)"
   ]
  },
  {
   "cell_type": "code",
   "execution_count": null,
   "id": "f1d1f15d74f5a89a",
   "metadata": {
    "ExecuteTime": {
     "end_time": "2025-03-15T16:38:11.683974Z",
     "start_time": "2025-03-14T03:57:02.080186Z"
    }
   },
   "outputs": [
    {
     "data": {
      "text/html": [
       "<div>\n",
       "<style scoped>\n",
       "    .dataframe tbody tr th:only-of-type {\n",
       "        vertical-align: middle;\n",
       "    }\n",
       "\n",
       "    .dataframe tbody tr th {\n",
       "        vertical-align: top;\n",
       "    }\n",
       "\n",
       "    .dataframe thead th {\n",
       "        text-align: right;\n",
       "    }\n",
       "</style>\n",
       "<table border=\"1\" class=\"dataframe\">\n",
       "  <thead>\n",
       "    <tr style=\"text-align: right;\">\n",
       "      <th></th>\n",
       "      <th>CV_Name</th>\n",
       "      <th>Total_Word_Count</th>\n",
       "      <th>Has_Photo</th>\n",
       "      <th>Has_Colors</th>\n",
       "      <th>Pages</th>\n",
       "      <th>Keyword_Count</th>\n",
       "      <th>Education_Exists</th>\n",
       "      <th>Education_Word_Count</th>\n",
       "      <th>Work_Experience_Exists</th>\n",
       "      <th>Work_Experience_Word_Count</th>\n",
       "      <th>Skills_Exists</th>\n",
       "      <th>Skills_Word_Count</th>\n",
       "      <th>Certifications_Exists</th>\n",
       "      <th>Certifications_Word_Count</th>\n",
       "      <th>Achievements_Exists</th>\n",
       "      <th>Achievements_Word_Count</th>\n",
       "      <th>Professional_Profile_Exists</th>\n",
       "      <th>Professional_Profile_Word_Count</th>\n",
       "      <th>Passed</th>\n",
       "    </tr>\n",
       "  </thead>\n",
       "  <tbody>\n",
       "    <tr>\n",
       "      <th>0</th>\n",
       "      <td>11686212-CV-Jorge Vidal.pdf</td>\n",
       "      <td>281</td>\n",
       "      <td>0</td>\n",
       "      <td>1</td>\n",
       "      <td>1</td>\n",
       "      <td>8</td>\n",
       "      <td>0</td>\n",
       "      <td>0</td>\n",
       "      <td>1</td>\n",
       "      <td>73</td>\n",
       "      <td>0</td>\n",
       "      <td>0</td>\n",
       "      <td>0</td>\n",
       "      <td>0</td>\n",
       "      <td>1</td>\n",
       "      <td>82</td>\n",
       "      <td>0</td>\n",
       "      <td>0</td>\n",
       "      <td>1</td>\n",
       "    </tr>\n",
       "    <tr>\n",
       "      <th>1</th>\n",
       "      <td>14483303-Andres_Gomez_resume.docx (2) (1).pdf</td>\n",
       "      <td>336</td>\n",
       "      <td>0</td>\n",
       "      <td>1</td>\n",
       "      <td>2</td>\n",
       "      <td>10</td>\n",
       "      <td>1</td>\n",
       "      <td>41</td>\n",
       "      <td>1</td>\n",
       "      <td>43</td>\n",
       "      <td>1</td>\n",
       "      <td>230</td>\n",
       "      <td>0</td>\n",
       "      <td>0</td>\n",
       "      <td>0</td>\n",
       "      <td>0</td>\n",
       "      <td>1</td>\n",
       "      <td>1</td>\n",
       "      <td>1</td>\n",
       "    </tr>\n",
       "    <tr>\n",
       "      <th>2</th>\n",
       "      <td>14503315-CV - Henry Luis Gomez Ortiz [En] (1) ...</td>\n",
       "      <td>760</td>\n",
       "      <td>0</td>\n",
       "      <td>1</td>\n",
       "      <td>2</td>\n",
       "      <td>8</td>\n",
       "      <td>1</td>\n",
       "      <td>5</td>\n",
       "      <td>1</td>\n",
       "      <td>5</td>\n",
       "      <td>1</td>\n",
       "      <td>29</td>\n",
       "      <td>0</td>\n",
       "      <td>0</td>\n",
       "      <td>0</td>\n",
       "      <td>0</td>\n",
       "      <td>1</td>\n",
       "      <td>25</td>\n",
       "      <td>1</td>\n",
       "    </tr>\n",
       "    <tr>\n",
       "      <th>3</th>\n",
       "      <td>14955159-Curriculum vitae english (1).pdf</td>\n",
       "      <td>767</td>\n",
       "      <td>1</td>\n",
       "      <td>1</td>\n",
       "      <td>3</td>\n",
       "      <td>11</td>\n",
       "      <td>1</td>\n",
       "      <td>118</td>\n",
       "      <td>1</td>\n",
       "      <td>22</td>\n",
       "      <td>1</td>\n",
       "      <td>12</td>\n",
       "      <td>0</td>\n",
       "      <td>0</td>\n",
       "      <td>0</td>\n",
       "      <td>0</td>\n",
       "      <td>1</td>\n",
       "      <td>29</td>\n",
       "      <td>1</td>\n",
       "    </tr>\n",
       "    <tr>\n",
       "      <th>4</th>\n",
       "      <td>8A9EBB5F-08ED-4D90-92C2-72A9024C2A58.pdf</td>\n",
       "      <td>482</td>\n",
       "      <td>0</td>\n",
       "      <td>1</td>\n",
       "      <td>2</td>\n",
       "      <td>4</td>\n",
       "      <td>0</td>\n",
       "      <td>0</td>\n",
       "      <td>1</td>\n",
       "      <td>38</td>\n",
       "      <td>0</td>\n",
       "      <td>0</td>\n",
       "      <td>0</td>\n",
       "      <td>0</td>\n",
       "      <td>1</td>\n",
       "      <td>387</td>\n",
       "      <td>0</td>\n",
       "      <td>0</td>\n",
       "      <td>1</td>\n",
       "    </tr>\n",
       "    <tr>\n",
       "      <th>...</th>\n",
       "      <td>...</td>\n",
       "      <td>...</td>\n",
       "      <td>...</td>\n",
       "      <td>...</td>\n",
       "      <td>...</td>\n",
       "      <td>...</td>\n",
       "      <td>...</td>\n",
       "      <td>...</td>\n",
       "      <td>...</td>\n",
       "      <td>...</td>\n",
       "      <td>...</td>\n",
       "      <td>...</td>\n",
       "      <td>...</td>\n",
       "      <td>...</td>\n",
       "      <td>...</td>\n",
       "      <td>...</td>\n",
       "      <td>...</td>\n",
       "      <td>...</td>\n",
       "      <td>...</td>\n",
       "    </tr>\n",
       "    <tr>\n",
       "      <th>301</th>\n",
       "      <td>Sergio Resume (2).pdf</td>\n",
       "      <td>630</td>\n",
       "      <td>0</td>\n",
       "      <td>1</td>\n",
       "      <td>4</td>\n",
       "      <td>12</td>\n",
       "      <td>1</td>\n",
       "      <td>11</td>\n",
       "      <td>1</td>\n",
       "      <td>1</td>\n",
       "      <td>1</td>\n",
       "      <td>3</td>\n",
       "      <td>0</td>\n",
       "      <td>0</td>\n",
       "      <td>0</td>\n",
       "      <td>0</td>\n",
       "      <td>1</td>\n",
       "      <td>6</td>\n",
       "      <td>0</td>\n",
       "    </tr>\n",
       "    <tr>\n",
       "      <th>302</th>\n",
       "      <td>Sintesis_Curricular_Luis_Malpica_Murillo.pdf</td>\n",
       "      <td>763</td>\n",
       "      <td>1</td>\n",
       "      <td>1</td>\n",
       "      <td>3</td>\n",
       "      <td>11</td>\n",
       "      <td>0</td>\n",
       "      <td>0</td>\n",
       "      <td>0</td>\n",
       "      <td>0</td>\n",
       "      <td>1</td>\n",
       "      <td>182</td>\n",
       "      <td>0</td>\n",
       "      <td>0</td>\n",
       "      <td>0</td>\n",
       "      <td>0</td>\n",
       "      <td>0</td>\n",
       "      <td>0</td>\n",
       "      <td>0</td>\n",
       "    </tr>\n",
       "    <tr>\n",
       "      <th>303</th>\n",
       "      <td>Sucre - Specialist Fullstack Developer-3.pdf</td>\n",
       "      <td>1575</td>\n",
       "      <td>1</td>\n",
       "      <td>1</td>\n",
       "      <td>6</td>\n",
       "      <td>8</td>\n",
       "      <td>0</td>\n",
       "      <td>0</td>\n",
       "      <td>1</td>\n",
       "      <td>8</td>\n",
       "      <td>1</td>\n",
       "      <td>25</td>\n",
       "      <td>0</td>\n",
       "      <td>0</td>\n",
       "      <td>0</td>\n",
       "      <td>0</td>\n",
       "      <td>1</td>\n",
       "      <td>11</td>\n",
       "      <td>0</td>\n",
       "    </tr>\n",
       "    <tr>\n",
       "      <th>304</th>\n",
       "      <td>VictorPietro_Reis_Resume (1).pdf</td>\n",
       "      <td>372</td>\n",
       "      <td>0</td>\n",
       "      <td>1</td>\n",
       "      <td>2</td>\n",
       "      <td>8</td>\n",
       "      <td>1</td>\n",
       "      <td>2</td>\n",
       "      <td>0</td>\n",
       "      <td>0</td>\n",
       "      <td>1</td>\n",
       "      <td>125</td>\n",
       "      <td>0</td>\n",
       "      <td>0</td>\n",
       "      <td>0</td>\n",
       "      <td>0</td>\n",
       "      <td>0</td>\n",
       "      <td>0</td>\n",
       "      <td>0</td>\n",
       "    </tr>\n",
       "    <tr>\n",
       "      <th>305</th>\n",
       "      <td>_Resume Fernando Gaona Juarez 2024_Javax (2).pdf</td>\n",
       "      <td>820</td>\n",
       "      <td>0</td>\n",
       "      <td>1</td>\n",
       "      <td>2</td>\n",
       "      <td>14</td>\n",
       "      <td>1</td>\n",
       "      <td>16</td>\n",
       "      <td>1</td>\n",
       "      <td>32</td>\n",
       "      <td>1</td>\n",
       "      <td>127</td>\n",
       "      <td>1</td>\n",
       "      <td>11</td>\n",
       "      <td>0</td>\n",
       "      <td>0</td>\n",
       "      <td>0</td>\n",
       "      <td>0</td>\n",
       "      <td>0</td>\n",
       "    </tr>\n",
       "  </tbody>\n",
       "</table>\n",
       "<p>306 rows × 19 columns</p>\n",
       "</div>"
      ],
      "text/plain": [
       "                                               CV_Name  Total_Word_Count  \\\n",
       "0                          11686212-CV-Jorge Vidal.pdf               281   \n",
       "1        14483303-Andres_Gomez_resume.docx (2) (1).pdf               336   \n",
       "2    14503315-CV - Henry Luis Gomez Ortiz [En] (1) ...               760   \n",
       "3            14955159-Curriculum vitae english (1).pdf               767   \n",
       "4             8A9EBB5F-08ED-4D90-92C2-72A9024C2A58.pdf               482   \n",
       "..                                                 ...               ...   \n",
       "301                              Sergio Resume (2).pdf               630   \n",
       "302       Sintesis_Curricular_Luis_Malpica_Murillo.pdf               763   \n",
       "303       Sucre - Specialist Fullstack Developer-3.pdf              1575   \n",
       "304                   VictorPietro_Reis_Resume (1).pdf               372   \n",
       "305   _Resume Fernando Gaona Juarez 2024_Javax (2).pdf               820   \n",
       "\n",
       "     Has_Photo  Has_Colors  Pages  Keyword_Count  Education_Exists  \\\n",
       "0            0           1      1              8                 0   \n",
       "1            0           1      2             10                 1   \n",
       "2            0           1      2              8                 1   \n",
       "3            1           1      3             11                 1   \n",
       "4            0           1      2              4                 0   \n",
       "..         ...         ...    ...            ...               ...   \n",
       "301          0           1      4             12                 1   \n",
       "302          1           1      3             11                 0   \n",
       "303          1           1      6              8                 0   \n",
       "304          0           1      2              8                 1   \n",
       "305          0           1      2             14                 1   \n",
       "\n",
       "     Education_Word_Count  Work_Experience_Exists  Work_Experience_Word_Count  \\\n",
       "0                       0                       1                          73   \n",
       "1                      41                       1                          43   \n",
       "2                       5                       1                           5   \n",
       "3                     118                       1                          22   \n",
       "4                       0                       1                          38   \n",
       "..                    ...                     ...                         ...   \n",
       "301                    11                       1                           1   \n",
       "302                     0                       0                           0   \n",
       "303                     0                       1                           8   \n",
       "304                     2                       0                           0   \n",
       "305                    16                       1                          32   \n",
       "\n",
       "     Skills_Exists  Skills_Word_Count  Certifications_Exists  \\\n",
       "0                0                  0                      0   \n",
       "1                1                230                      0   \n",
       "2                1                 29                      0   \n",
       "3                1                 12                      0   \n",
       "4                0                  0                      0   \n",
       "..             ...                ...                    ...   \n",
       "301              1                  3                      0   \n",
       "302              1                182                      0   \n",
       "303              1                 25                      0   \n",
       "304              1                125                      0   \n",
       "305              1                127                      1   \n",
       "\n",
       "     Certifications_Word_Count  Achievements_Exists  Achievements_Word_Count  \\\n",
       "0                            0                    1                       82   \n",
       "1                            0                    0                        0   \n",
       "2                            0                    0                        0   \n",
       "3                            0                    0                        0   \n",
       "4                            0                    1                      387   \n",
       "..                         ...                  ...                      ...   \n",
       "301                          0                    0                        0   \n",
       "302                          0                    0                        0   \n",
       "303                          0                    0                        0   \n",
       "304                          0                    0                        0   \n",
       "305                         11                    0                        0   \n",
       "\n",
       "     Professional_Profile_Exists  Professional_Profile_Word_Count  Passed  \n",
       "0                              0                                0       1  \n",
       "1                              1                                1       1  \n",
       "2                              1                               25       1  \n",
       "3                              1                               29       1  \n",
       "4                              0                                0       1  \n",
       "..                           ...                              ...     ...  \n",
       "301                            1                                6       0  \n",
       "302                            0                                0       0  \n",
       "303                            1                               11       0  \n",
       "304                            0                                0       0  \n",
       "305                            0                                0       0  \n",
       "\n",
       "[306 rows x 19 columns]"
      ]
     },
     "execution_count": 17,
     "metadata": {},
     "output_type": "execute_result"
    }
   ],
   "source": [
    "baseCVs"
   ]
  },
  {
   "cell_type": "markdown",
   "id": "c4b671230b798b33",
   "metadata": {},
   "source": [
    "### Exportar base en un archivo CSV para posterior lectura"
   ]
  },
  {
   "cell_type": "code",
   "execution_count": null,
   "id": "b00bc5200b33dfd7",
   "metadata": {
    "ExecuteTime": {
     "end_time": "2025-03-15T16:38:11.684712Z",
     "start_time": "2025-03-14T03:57:02.198613Z"
    }
   },
   "outputs": [],
   "source": [
    "baseCVs.to_csv(\"baseCVs.csv\", index=False)"
   ]
  }
 ],
 "metadata": {
  "kernelspec": {
   "display_name": ".venv",
   "language": "python",
   "name": "python3"
  },
  "language_info": {
   "codemirror_mode": {
    "name": "ipython",
    "version": 3
   },
   "file_extension": ".py",
   "mimetype": "text/x-python",
   "name": "python",
   "nbconvert_exporter": "python",
   "pygments_lexer": "ipython3",
   "version": "3.11.10"
  }
 },
 "nbformat": 4,
 "nbformat_minor": 5
}
